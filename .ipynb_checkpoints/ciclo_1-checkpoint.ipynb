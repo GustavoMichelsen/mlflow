{
 "cells": [
  {
   "cell_type": "markdown",
   "id": "cc44b35a",
   "metadata": {
    "ExecuteTime": {
     "end_time": "2023-12-28T00:58:07.977882Z",
     "start_time": "2023-12-28T00:58:07.970897Z"
    },
    "heading_collapsed": true
   },
   "source": [
    "# 0.0 Imports e Funções de Ajuda"
   ]
  },
  {
   "cell_type": "markdown",
   "id": "4c8840cd",
   "metadata": {
    "heading_collapsed": true,
    "hidden": true
   },
   "source": [
    "## 0.1 Bibliotecas"
   ]
  },
  {
   "cell_type": "code",
   "execution_count": 215,
   "id": "879aa1a2",
   "metadata": {
    "ExecuteTime": {
     "end_time": "2023-12-28T14:24:01.988811Z",
     "start_time": "2023-12-28T14:24:01.981160Z"
    },
    "hidden": true
   },
   "outputs": [],
   "source": [
    "import inflection\n",
    "import pickle\n",
    "\n",
    "import pandas            as pd\n",
    "import numpy             as np\n",
    "import seaborn           as sns\n",
    "import matplotlib.pyplot as plt\n",
    "\n",
    "from IPython.display           import display, HTML\n",
    "from sklearn.model_selection   import train_test_split\n",
    "from sklearn.linear_model      import LogisticRegression\n",
    "from sklearn.metrics           import roc_auc_score\n",
    "from sklearn.preprocessing     import MinMaxScaler\n",
    "from sklearn.feature_selection import SelectPercentile, f_classif"
   ]
  },
  {
   "cell_type": "markdown",
   "id": "4343c4f9",
   "metadata": {
    "heading_collapsed": true,
    "hidden": true
   },
   "source": [
    "## 0.2 Funções de Ajuda"
   ]
  },
  {
   "cell_type": "code",
   "execution_count": null,
   "id": "de069b8c",
   "metadata": {
    "ExecuteTime": {
     "end_time": "2023-12-28T11:43:00.800559Z",
     "start_time": "2023-12-28T11:43:00.800559Z"
    },
    "hidden": true
   },
   "outputs": [],
   "source": [
    "# Função para análise exploratória de dados numéricos\n",
    "def analise_Numerica(df):\n",
    "    sns.set(rc={'figure.figsize':(15,5)})\n",
    "\n",
    "    for coluna in df.columns:\n",
    "        plt.figure()\n",
    "\n",
    "        if pd.api.types.is_numeric_dtype(df[coluna]):\n",
    "            # Nome da Feature\n",
    "            html_content = \"<h1>\" + coluna.upper() + \"</h1>\"\n",
    "            display(HTML(html_content))        \n",
    "\n",
    "            # Plots\n",
    "            plt.subplot(1, 2, 1)\n",
    "            sns.boxplot(y=df[coluna])\n",
    "            plt.title(f\"Boxplot da coluna '{coluna}'\")\n",
    "\n",
    "            plt.subplot(1, 2, 2)\n",
    "            sns.histplot(data=df[coluna], kde=True)\n",
    "            plt.title(f\"Histograma da coluna '{coluna}'\")\n",
    "\n",
    "            # Estatística\n",
    "            aux1 = pd.DataFrame(data={'feature':[coluna]}, index=['estatisticas'])\n",
    "            aux1['media'] = df[coluna].mean()\n",
    "            aux1['minimo'] = df[coluna].min()\n",
    "            aux1['mediana'] = df[coluna].median()\n",
    "            aux1['maximo'] = df[coluna].max()\n",
    "            aux1['desvio_padrao'] = df[coluna].std()\n",
    "            \n",
    "            # Exibição\n",
    "            \n",
    "            plt.show()\n",
    "            display(HTML(aux1.to_html()))\n",
    "            \n",
    "# Função para análise exploratória de dados categóricos\n",
    "def analise_Categorica(df):\n",
    "    sns.set(rc={'figure.figsize':(15,5)})\n",
    "\n",
    "    for coluna in df.columns:\n",
    "        plt.figure()\n",
    "\n",
    "        if pd.api.types.is_object_dtype(df[coluna]):\n",
    "            # Nome da Feature\n",
    "            html_content = \"<h1>\" + coluna.upper() + \"</h1>\"\n",
    "            display(HTML(html_content))        \n",
    "\n",
    "            # Plots\n",
    "            aux = df[coluna].value_counts().reset_index().head(50)\n",
    "            aux.columns = [coluna, 'contagem']\n",
    "            plt.subplot(1, 1, 1)\n",
    "            sns.countplot(x=coluna, data=df, order=aux[coluna])\n",
    "            plt.title(f\"Countplot da coluna '{coluna}'\")\n",
    "            if len(aux) > 10:\n",
    "                plt.xticks(rotation=90)\n",
    "\n",
    "            # Estatísticas\n",
    "            # Geral\n",
    "            aux1 = df[coluna].describe().to_frame().T\n",
    "\n",
    "            # Por categoria\n",
    "            aux2 = df[coluna].value_counts().reset_index()\n",
    "            aux2.columns = ['categoria', 'contagem']\n",
    "            aux2['percentual'] = (aux2['contagem'] / aux2['contagem'].sum()).round(4) * 100\n",
    "            aux2 = aux2.sort_values('contagem', ascending=False)\n",
    "            \n",
    "            # Exibição\n",
    "            plt.show()\n",
    "            html_content = \"<h5> Descrição Geral </h5>\"\n",
    "            display(HTML(aux1.to_html(index=False)))\n",
    "            html_content = \"<h5> Descrição por Categoria </h5>\"\n",
    "            display(HTML(aux2.head(10).T.to_html(index=False)))\n"
   ]
  },
  {
   "cell_type": "markdown",
   "id": "38771752",
   "metadata": {
    "heading_collapsed": true,
    "hidden": true
   },
   "source": [
    "## 0.3 Importação dos dados"
   ]
  },
  {
   "cell_type": "code",
   "execution_count": 4,
   "id": "6195edfd",
   "metadata": {
    "ExecuteTime": {
     "end_time": "2023-12-28T10:17:40.194544Z",
     "start_time": "2023-12-28T10:17:40.039536Z"
    },
    "hidden": true
   },
   "outputs": [],
   "source": [
    "df_raw = pd.read_csv('dataset/train.csv', index_col=0)"
   ]
  },
  {
   "cell_type": "markdown",
   "id": "2e60549b",
   "metadata": {
    "heading_collapsed": true,
    "hidden": true
   },
   "source": [
    "## 0.4 Configurações"
   ]
  },
  {
   "cell_type": "code",
   "execution_count": 37,
   "id": "2b9b68f5",
   "metadata": {
    "ExecuteTime": {
     "end_time": "2023-12-28T10:46:56.081639Z",
     "start_time": "2023-12-28T10:46:56.074464Z"
    },
    "hidden": true
   },
   "outputs": [
    {
     "data": {
      "text/html": [
       "<style>.container { width:90% !important; }</style>"
      ],
      "text/plain": [
       "<IPython.core.display.HTML object>"
      ]
     },
     "metadata": {},
     "output_type": "display_data"
    }
   ],
   "source": [
    "# Deixar o jupyper em widescreen\n",
    "display(HTML(\"<style>.container { width:90% !important; }</style>\"))\n",
    "\n",
    "# Seta o máximo de colunas e linhas que o pandas vai exibir\n",
    "pd.set_option('display.max_columns', 20)\n",
    "pd.set_option('display.max_rows', 60)"
   ]
  },
  {
   "cell_type": "markdown",
   "id": "f8afe1e7",
   "metadata": {
    "ExecuteTime": {
     "end_time": "2023-12-28T01:04:02.189936Z",
     "start_time": "2023-12-28T01:04:02.160015Z"
    },
    "heading_collapsed": true
   },
   "source": [
    "# 1. Descrição dos Dados"
   ]
  },
  {
   "cell_type": "code",
   "execution_count": 155,
   "id": "053d1d23",
   "metadata": {
    "ExecuteTime": {
     "end_time": "2023-12-28T13:06:14.881724Z",
     "start_time": "2023-12-28T13:06:14.855567Z"
    },
    "hidden": true
   },
   "outputs": [],
   "source": [
    "df1 = df_raw.copy()"
   ]
  },
  {
   "cell_type": "markdown",
   "id": "de1a17b5",
   "metadata": {
    "heading_collapsed": true,
    "hidden": true
   },
   "source": [
    "## 1.1 Renomeando as Colunas"
   ]
  },
  {
   "cell_type": "code",
   "execution_count": 156,
   "id": "b3654e2d",
   "metadata": {
    "ExecuteTime": {
     "end_time": "2023-12-28T13:06:14.888818Z",
     "start_time": "2023-12-28T13:06:14.884265Z"
    },
    "hidden": true
   },
   "outputs": [],
   "source": [
    "old_columns = df1.columns\n",
    "snekecase = lambda x: inflection.underscore(x)\n",
    "new_columns = list(map(snekecase, old_columns))\n",
    "df1.columns = new_columns"
   ]
  },
  {
   "cell_type": "markdown",
   "id": "7bd2a164",
   "metadata": {
    "heading_collapsed": true,
    "hidden": true
   },
   "source": [
    "## 1.2 Dimenção dos Dados"
   ]
  },
  {
   "cell_type": "code",
   "execution_count": 157,
   "id": "f476bc34",
   "metadata": {
    "ExecuteTime": {
     "end_time": "2023-12-28T13:06:14.894881Z",
     "start_time": "2023-12-28T13:06:14.888818Z"
    },
    "hidden": true
   },
   "outputs": [
    {
     "name": "stdout",
     "output_type": "stream",
     "text": [
      "Linhas: 150000\n",
      "Colunas: 11\n"
     ]
    }
   ],
   "source": [
    "print(f'Linhas: {df1.shape[0]}')\n",
    "print(f'Colunas: {df1.shape[1]}')"
   ]
  },
  {
   "cell_type": "markdown",
   "id": "eff887b7",
   "metadata": {
    "heading_collapsed": true,
    "hidden": true
   },
   "source": [
    "## 1.3 Dados Faltantes"
   ]
  },
  {
   "cell_type": "code",
   "execution_count": 158,
   "id": "ff122896",
   "metadata": {
    "ExecuteTime": {
     "end_time": "2023-12-28T13:06:14.906118Z",
     "start_time": "2023-12-28T13:06:14.895545Z"
    },
    "hidden": true
   },
   "outputs": [
    {
     "data": {
      "text/plain": [
       "target                                                   0\n",
       "taxa_de_utilizacao_de_linhas_nao_garantidas              0\n",
       "idade                                                    0\n",
       "numero_de_vezes30_59_dias_atraso_nao_pior                0\n",
       "taxa_de_endividamento                                    0\n",
       "renda_mensal                                         29731\n",
       "numero_de_linhas_de_credito_e_emprestimos_abertos        0\n",
       "numero_de_vezes90_dias_atraso                            0\n",
       "numero_de_emprestimos_ou_linhas_imobiliarias             0\n",
       "numero_de_vezes60_89_dias_atraso_nao_pior                0\n",
       "numero_de_dependentes                                 3924\n",
       "dtype: int64"
      ]
     },
     "execution_count": 158,
     "metadata": {},
     "output_type": "execute_result"
    }
   ],
   "source": [
    "df1.isna().sum()"
   ]
  },
  {
   "cell_type": "markdown",
   "id": "feb7bb17",
   "metadata": {
    "heading_collapsed": true,
    "hidden": true
   },
   "source": [
    "## 1.4 Tratamento de Dados Faltantes"
   ]
  },
  {
   "cell_type": "code",
   "execution_count": 159,
   "id": "639b5cf5",
   "metadata": {
    "ExecuteTime": {
     "end_time": "2023-12-28T13:06:14.959710Z",
     "start_time": "2023-12-28T13:06:14.906118Z"
    },
    "hidden": true
   },
   "outputs": [],
   "source": [
    "# Tratamento da renda_media\n",
    "# Substituido os dados faltantes pela renda média por idade\n",
    "\n",
    "df1 = df1.merge(df1[['idade', 'renda_mensal']].groupby('idade').mean().reset_index().rename(columns={'renda_mensal':'renda_media'}), how='left', on='idade')\n",
    "df1['renda_mensal'].fillna(df1['renda_media'], inplace=True)\n",
    "df1.drop(columns='renda_media', inplace=True)\n",
    "df1['renda_mensal'].fillna(df1['renda_mensal'].median(), inplace=True)"
   ]
  },
  {
   "cell_type": "code",
   "execution_count": 160,
   "id": "25099142",
   "metadata": {
    "ExecuteTime": {
     "end_time": "2023-12-28T13:06:14.996392Z",
     "start_time": "2023-12-28T13:06:14.961719Z"
    },
    "hidden": true
   },
   "outputs": [],
   "source": [
    "# Tratemento do numero_de_dependentes\n",
    "# Substituido pelo numero médio de dependentes por idade\n",
    "\n",
    "aux = df1[['idade', 'numero_de_dependentes']].groupby('idade').mean().reset_index().rename(columns={'numero_de_dependentes':'dependentes'})\n",
    "aux['dependentes'] = np.ceil(aux['dependentes'])\n",
    "df1 = df1.merge(aux, how='left', on='idade')\n",
    "df1['numero_de_dependentes'].fillna(df1['dependentes'], inplace=True)\n",
    "df1.drop(columns=['dependentes'], inplace=True)\n",
    "\n",
    "# Onde o número de dependentes ficou NA, substitui por 0\n",
    "df1['numero_de_dependentes'].fillna(0, inplace=True)"
   ]
  },
  {
   "cell_type": "code",
   "execution_count": 161,
   "id": "4410d709",
   "metadata": {
    "ExecuteTime": {
     "end_time": "2023-12-28T13:06:15.006767Z",
     "start_time": "2023-12-28T13:06:14.997399Z"
    },
    "hidden": true
   },
   "outputs": [
    {
     "data": {
      "text/plain": [
       "target                                               0\n",
       "taxa_de_utilizacao_de_linhas_nao_garantidas          0\n",
       "idade                                                0\n",
       "numero_de_vezes30_59_dias_atraso_nao_pior            0\n",
       "taxa_de_endividamento                                0\n",
       "renda_mensal                                         0\n",
       "numero_de_linhas_de_credito_e_emprestimos_abertos    0\n",
       "numero_de_vezes90_dias_atraso                        0\n",
       "numero_de_emprestimos_ou_linhas_imobiliarias         0\n",
       "numero_de_vezes60_89_dias_atraso_nao_pior            0\n",
       "numero_de_dependentes                                0\n",
       "dtype: int64"
      ]
     },
     "execution_count": 161,
     "metadata": {},
     "output_type": "execute_result"
    }
   ],
   "source": [
    "df1.isna().sum()"
   ]
  },
  {
   "cell_type": "markdown",
   "id": "05a021bc",
   "metadata": {
    "heading_collapsed": true,
    "hidden": true
   },
   "source": [
    "## 1.5 Tipos de Dados das Colunas"
   ]
  },
  {
   "cell_type": "code",
   "execution_count": 162,
   "id": "d0e85579",
   "metadata": {
    "ExecuteTime": {
     "end_time": "2023-12-28T13:06:15.014733Z",
     "start_time": "2023-12-28T13:06:15.008149Z"
    },
    "hidden": true
   },
   "outputs": [
    {
     "data": {
      "text/plain": [
       "target                                                 int64\n",
       "taxa_de_utilizacao_de_linhas_nao_garantidas          float64\n",
       "idade                                                  int64\n",
       "numero_de_vezes30_59_dias_atraso_nao_pior              int64\n",
       "taxa_de_endividamento                                float64\n",
       "renda_mensal                                         float64\n",
       "numero_de_linhas_de_credito_e_emprestimos_abertos      int64\n",
       "numero_de_vezes90_dias_atraso                          int64\n",
       "numero_de_emprestimos_ou_linhas_imobiliarias           int64\n",
       "numero_de_vezes60_89_dias_atraso_nao_pior              int64\n",
       "numero_de_dependentes                                float64\n",
       "dtype: object"
      ]
     },
     "execution_count": 162,
     "metadata": {},
     "output_type": "execute_result"
    }
   ],
   "source": [
    "df1.dtypes"
   ]
  },
  {
   "cell_type": "markdown",
   "id": "580caaa7",
   "metadata": {
    "heading_collapsed": true,
    "hidden": true
   },
   "source": [
    "## 1.6 Alteração dos Tipos das Colunas"
   ]
  },
  {
   "cell_type": "code",
   "execution_count": 163,
   "id": "fc54f7e2",
   "metadata": {
    "ExecuteTime": {
     "end_time": "2023-12-28T13:06:15.021714Z",
     "start_time": "2023-12-28T13:06:15.014733Z"
    },
    "hidden": true
   },
   "outputs": [],
   "source": [
    "df1['numero_de_dependentes'] = df1['numero_de_dependentes'].astype(np.int64)"
   ]
  },
  {
   "cell_type": "markdown",
   "id": "67c329bc",
   "metadata": {
    "heading_collapsed": true,
    "hidden": true
   },
   "source": [
    "## 1.7 Descrição dos Atributos"
   ]
  },
  {
   "cell_type": "code",
   "execution_count": 164,
   "id": "3adfa0a2",
   "metadata": {
    "ExecuteTime": {
     "end_time": "2023-12-28T13:06:15.106443Z",
     "start_time": "2023-12-28T13:06:15.025880Z"
    },
    "hidden": true
   },
   "outputs": [
    {
     "data": {
      "text/html": [
       "<div>\n",
       "<style scoped>\n",
       "    .dataframe tbody tr th:only-of-type {\n",
       "        vertical-align: middle;\n",
       "    }\n",
       "\n",
       "    .dataframe tbody tr th {\n",
       "        vertical-align: top;\n",
       "    }\n",
       "\n",
       "    .dataframe thead th {\n",
       "        text-align: right;\n",
       "    }\n",
       "</style>\n",
       "<table border=\"1\" class=\"dataframe\">\n",
       "  <thead>\n",
       "    <tr style=\"text-align: right;\">\n",
       "      <th></th>\n",
       "      <th>count</th>\n",
       "      <th>mean</th>\n",
       "      <th>std</th>\n",
       "      <th>min</th>\n",
       "      <th>25%</th>\n",
       "      <th>50%</th>\n",
       "      <th>75%</th>\n",
       "      <th>max</th>\n",
       "    </tr>\n",
       "  </thead>\n",
       "  <tbody>\n",
       "    <tr>\n",
       "      <th>target</th>\n",
       "      <td>150000.0</td>\n",
       "      <td>0.066840</td>\n",
       "      <td>0.249746</td>\n",
       "      <td>0.0</td>\n",
       "      <td>0.000000</td>\n",
       "      <td>0.000000</td>\n",
       "      <td>0.000000</td>\n",
       "      <td>1.0</td>\n",
       "    </tr>\n",
       "    <tr>\n",
       "      <th>taxa_de_utilizacao_de_linhas_nao_garantidas</th>\n",
       "      <td>150000.0</td>\n",
       "      <td>6.048438</td>\n",
       "      <td>249.755371</td>\n",
       "      <td>0.0</td>\n",
       "      <td>0.029867</td>\n",
       "      <td>0.154181</td>\n",
       "      <td>0.559046</td>\n",
       "      <td>50708.0</td>\n",
       "    </tr>\n",
       "    <tr>\n",
       "      <th>idade</th>\n",
       "      <td>150000.0</td>\n",
       "      <td>52.295207</td>\n",
       "      <td>14.771866</td>\n",
       "      <td>0.0</td>\n",
       "      <td>41.000000</td>\n",
       "      <td>52.000000</td>\n",
       "      <td>63.000000</td>\n",
       "      <td>109.0</td>\n",
       "    </tr>\n",
       "    <tr>\n",
       "      <th>numero_de_vezes30_59_dias_atraso_nao_pior</th>\n",
       "      <td>150000.0</td>\n",
       "      <td>0.421033</td>\n",
       "      <td>4.192781</td>\n",
       "      <td>0.0</td>\n",
       "      <td>0.000000</td>\n",
       "      <td>0.000000</td>\n",
       "      <td>0.000000</td>\n",
       "      <td>98.0</td>\n",
       "    </tr>\n",
       "    <tr>\n",
       "      <th>taxa_de_endividamento</th>\n",
       "      <td>150000.0</td>\n",
       "      <td>353.005076</td>\n",
       "      <td>2037.818523</td>\n",
       "      <td>0.0</td>\n",
       "      <td>0.175074</td>\n",
       "      <td>0.366508</td>\n",
       "      <td>0.868254</td>\n",
       "      <td>329664.0</td>\n",
       "    </tr>\n",
       "    <tr>\n",
       "      <th>renda_mensal</th>\n",
       "      <td>150000.0</td>\n",
       "      <td>6674.505283</td>\n",
       "      <td>12894.484909</td>\n",
       "      <td>0.0</td>\n",
       "      <td>3800.000000</td>\n",
       "      <td>5950.000000</td>\n",
       "      <td>7795.325926</td>\n",
       "      <td>3008750.0</td>\n",
       "    </tr>\n",
       "    <tr>\n",
       "      <th>numero_de_linhas_de_credito_e_emprestimos_abertos</th>\n",
       "      <td>150000.0</td>\n",
       "      <td>8.452760</td>\n",
       "      <td>5.145951</td>\n",
       "      <td>0.0</td>\n",
       "      <td>5.000000</td>\n",
       "      <td>8.000000</td>\n",
       "      <td>11.000000</td>\n",
       "      <td>58.0</td>\n",
       "    </tr>\n",
       "    <tr>\n",
       "      <th>numero_de_vezes90_dias_atraso</th>\n",
       "      <td>150000.0</td>\n",
       "      <td>0.265973</td>\n",
       "      <td>4.169304</td>\n",
       "      <td>0.0</td>\n",
       "      <td>0.000000</td>\n",
       "      <td>0.000000</td>\n",
       "      <td>0.000000</td>\n",
       "      <td>98.0</td>\n",
       "    </tr>\n",
       "    <tr>\n",
       "      <th>numero_de_emprestimos_ou_linhas_imobiliarias</th>\n",
       "      <td>150000.0</td>\n",
       "      <td>1.018240</td>\n",
       "      <td>1.129771</td>\n",
       "      <td>0.0</td>\n",
       "      <td>0.000000</td>\n",
       "      <td>1.000000</td>\n",
       "      <td>2.000000</td>\n",
       "      <td>54.0</td>\n",
       "    </tr>\n",
       "    <tr>\n",
       "      <th>numero_de_vezes60_89_dias_atraso_nao_pior</th>\n",
       "      <td>150000.0</td>\n",
       "      <td>0.240387</td>\n",
       "      <td>4.155179</td>\n",
       "      <td>0.0</td>\n",
       "      <td>0.000000</td>\n",
       "      <td>0.000000</td>\n",
       "      <td>0.000000</td>\n",
       "      <td>98.0</td>\n",
       "    </tr>\n",
       "    <tr>\n",
       "      <th>numero_de_dependentes</th>\n",
       "      <td>150000.0</td>\n",
       "      <td>0.767880</td>\n",
       "      <td>1.104003</td>\n",
       "      <td>0.0</td>\n",
       "      <td>0.000000</td>\n",
       "      <td>0.000000</td>\n",
       "      <td>1.000000</td>\n",
       "      <td>20.0</td>\n",
       "    </tr>\n",
       "  </tbody>\n",
       "</table>\n",
       "</div>"
      ],
      "text/plain": [
       "                                                      count         mean  \\\n",
       "target                                             150000.0     0.066840   \n",
       "taxa_de_utilizacao_de_linhas_nao_garantidas        150000.0     6.048438   \n",
       "idade                                              150000.0    52.295207   \n",
       "numero_de_vezes30_59_dias_atraso_nao_pior          150000.0     0.421033   \n",
       "taxa_de_endividamento                              150000.0   353.005076   \n",
       "renda_mensal                                       150000.0  6674.505283   \n",
       "numero_de_linhas_de_credito_e_emprestimos_abertos  150000.0     8.452760   \n",
       "numero_de_vezes90_dias_atraso                      150000.0     0.265973   \n",
       "numero_de_emprestimos_ou_linhas_imobiliarias       150000.0     1.018240   \n",
       "numero_de_vezes60_89_dias_atraso_nao_pior          150000.0     0.240387   \n",
       "numero_de_dependentes                              150000.0     0.767880   \n",
       "\n",
       "                                                            std  min  \\\n",
       "target                                                 0.249746  0.0   \n",
       "taxa_de_utilizacao_de_linhas_nao_garantidas          249.755371  0.0   \n",
       "idade                                                 14.771866  0.0   \n",
       "numero_de_vezes30_59_dias_atraso_nao_pior              4.192781  0.0   \n",
       "taxa_de_endividamento                               2037.818523  0.0   \n",
       "renda_mensal                                       12894.484909  0.0   \n",
       "numero_de_linhas_de_credito_e_emprestimos_abertos      5.145951  0.0   \n",
       "numero_de_vezes90_dias_atraso                          4.169304  0.0   \n",
       "numero_de_emprestimos_ou_linhas_imobiliarias           1.129771  0.0   \n",
       "numero_de_vezes60_89_dias_atraso_nao_pior              4.155179  0.0   \n",
       "numero_de_dependentes                                  1.104003  0.0   \n",
       "\n",
       "                                                           25%          50%  \\\n",
       "target                                                0.000000     0.000000   \n",
       "taxa_de_utilizacao_de_linhas_nao_garantidas           0.029867     0.154181   \n",
       "idade                                                41.000000    52.000000   \n",
       "numero_de_vezes30_59_dias_atraso_nao_pior             0.000000     0.000000   \n",
       "taxa_de_endividamento                                 0.175074     0.366508   \n",
       "renda_mensal                                       3800.000000  5950.000000   \n",
       "numero_de_linhas_de_credito_e_emprestimos_abertos     5.000000     8.000000   \n",
       "numero_de_vezes90_dias_atraso                         0.000000     0.000000   \n",
       "numero_de_emprestimos_ou_linhas_imobiliarias          0.000000     1.000000   \n",
       "numero_de_vezes60_89_dias_atraso_nao_pior             0.000000     0.000000   \n",
       "numero_de_dependentes                                 0.000000     0.000000   \n",
       "\n",
       "                                                           75%        max  \n",
       "target                                                0.000000        1.0  \n",
       "taxa_de_utilizacao_de_linhas_nao_garantidas           0.559046    50708.0  \n",
       "idade                                                63.000000      109.0  \n",
       "numero_de_vezes30_59_dias_atraso_nao_pior             0.000000       98.0  \n",
       "taxa_de_endividamento                                 0.868254   329664.0  \n",
       "renda_mensal                                       7795.325926  3008750.0  \n",
       "numero_de_linhas_de_credito_e_emprestimos_abertos    11.000000       58.0  \n",
       "numero_de_vezes90_dias_atraso                         0.000000       98.0  \n",
       "numero_de_emprestimos_ou_linhas_imobiliarias          2.000000       54.0  \n",
       "numero_de_vezes60_89_dias_atraso_nao_pior             0.000000       98.0  \n",
       "numero_de_dependentes                                 1.000000       20.0  "
      ]
     },
     "execution_count": 164,
     "metadata": {},
     "output_type": "execute_result"
    }
   ],
   "source": [
    "df1.select_dtypes(include=['int64', 'float64']).describe().T"
   ]
  },
  {
   "cell_type": "markdown",
   "id": "efb4d1e1",
   "metadata": {
    "heading_collapsed": true
   },
   "source": [
    "# 2. Engenharia de Features"
   ]
  },
  {
   "cell_type": "code",
   "execution_count": 165,
   "id": "d86893a9",
   "metadata": {
    "ExecuteTime": {
     "end_time": "2023-12-28T13:06:15.119354Z",
     "start_time": "2023-12-28T13:06:15.108452Z"
    },
    "hidden": true
   },
   "outputs": [],
   "source": [
    "df2 = df1.copy()"
   ]
  },
  {
   "cell_type": "markdown",
   "id": "f5aa480c",
   "metadata": {
    "ExecuteTime": {
     "end_time": "2023-12-28T11:06:35.211038Z",
     "start_time": "2023-12-28T11:06:35.206978Z"
    },
    "heading_collapsed": true
   },
   "source": [
    "# 3. Seleção de Linhas/ Colunas"
   ]
  },
  {
   "cell_type": "code",
   "execution_count": 166,
   "id": "a620c28e",
   "metadata": {
    "ExecuteTime": {
     "end_time": "2023-12-28T13:06:15.127944Z",
     "start_time": "2023-12-28T13:06:15.121050Z"
    },
    "hidden": true
   },
   "outputs": [],
   "source": [
    "df3=df2.copy()"
   ]
  },
  {
   "cell_type": "markdown",
   "id": "fa0f50af",
   "metadata": {
    "heading_collapsed": true
   },
   "source": [
    "# 4. Análise dos Dados"
   ]
  },
  {
   "cell_type": "code",
   "execution_count": 167,
   "id": "394abf1d",
   "metadata": {
    "ExecuteTime": {
     "end_time": "2023-12-28T13:06:15.136058Z",
     "start_time": "2023-12-28T13:06:15.127944Z"
    },
    "hidden": true
   },
   "outputs": [],
   "source": [
    "df4 = df3.copy()"
   ]
  },
  {
   "cell_type": "markdown",
   "id": "be04a55f",
   "metadata": {
    "heading_collapsed": true,
    "hidden": true
   },
   "source": [
    "## 4.1 Análise Univariada"
   ]
  },
  {
   "cell_type": "code",
   "execution_count": 168,
   "id": "49b6d503",
   "metadata": {
    "ExecuteTime": {
     "end_time": "2023-12-28T13:06:15.141180Z",
     "start_time": "2023-12-28T13:06:15.137402Z"
    },
    "hidden": true,
    "scrolled": false
   },
   "outputs": [],
   "source": [
    "# analise_Numerica(df4)"
   ]
  },
  {
   "cell_type": "markdown",
   "id": "a24a78c5",
   "metadata": {
    "heading_collapsed": true,
    "hidden": true
   },
   "source": [
    "## 4.2 Análise Bivariada"
   ]
  },
  {
   "cell_type": "code",
   "execution_count": null,
   "id": "408f754a",
   "metadata": {
    "hidden": true
   },
   "outputs": [],
   "source": []
  },
  {
   "cell_type": "markdown",
   "id": "0a7418ba",
   "metadata": {
    "heading_collapsed": true
   },
   "source": [
    "# 5. Transformação das Colunas"
   ]
  },
  {
   "cell_type": "code",
   "execution_count": 169,
   "id": "cd562484",
   "metadata": {
    "ExecuteTime": {
     "end_time": "2023-12-28T13:06:15.149534Z",
     "start_time": "2023-12-28T13:06:15.141180Z"
    },
    "hidden": true
   },
   "outputs": [],
   "source": [
    "df5 = df4.copy()"
   ]
  },
  {
   "cell_type": "code",
   "execution_count": 170,
   "id": "0ae221ca",
   "metadata": {
    "ExecuteTime": {
     "end_time": "2023-12-28T13:06:15.199804Z",
     "start_time": "2023-12-28T13:06:15.149534Z"
    },
    "hidden": true,
    "scrolled": true
   },
   "outputs": [],
   "source": [
    "mms = MinMaxScaler()\n",
    "\n",
    "df5['taxa_de_utilizacao_de_linhas_nao_garantidas'] = mms.fit_transform(df5[['taxa_de_utilizacao_de_linhas_nao_garantidas']])\n",
    "df5['idade'] = mms.fit_transform(df5[['idade']])\n",
    "df5['numero_de_vezes30_59_dias_atraso_nao_pior'] = mms.fit_transform(df5[['numero_de_vezes30_59_dias_atraso_nao_pior']])\n",
    "df5['taxa_de_endividamento'] = mms.fit_transform(df5[['taxa_de_endividamento']])\n",
    "df5['renda_mensal'] = mms.fit_transform(df5[['renda_mensal']])\n",
    "df5['numero_de_linhas_de_credito_e_emprestimos_abertos'] = mms.fit_transform(df5[['numero_de_linhas_de_credito_e_emprestimos_abertos']])\n",
    "df5['numero_de_vezes90_dias_atraso'] = mms.fit_transform(df5[['numero_de_vezes90_dias_atraso']])\n",
    "df5['numero_de_emprestimos_ou_linhas_imobiliarias'] = mms.fit_transform(df5[['numero_de_emprestimos_ou_linhas_imobiliarias']])\n",
    "df5['numero_de_vezes60_89_dias_atraso_nao_pior'] = mms.fit_transform(df5[['numero_de_vezes60_89_dias_atraso_nao_pior']])\n",
    "df5['numero_de_dependentes'] = mms.fit_transform(df5[['numero_de_dependentes']])"
   ]
  },
  {
   "cell_type": "markdown",
   "id": "c648fcd1",
   "metadata": {
    "heading_collapsed": true
   },
   "source": [
    "# 6. Divisão do DataFrame e Seleção de Features"
   ]
  },
  {
   "cell_type": "code",
   "execution_count": 191,
   "id": "7265a193",
   "metadata": {
    "ExecuteTime": {
     "end_time": "2023-12-28T13:28:56.420969Z",
     "start_time": "2023-12-28T13:28:56.407208Z"
    },
    "hidden": true
   },
   "outputs": [
    {
     "data": {
      "text/html": [
       "<div>\n",
       "<style scoped>\n",
       "    .dataframe tbody tr th:only-of-type {\n",
       "        vertical-align: middle;\n",
       "    }\n",
       "\n",
       "    .dataframe tbody tr th {\n",
       "        vertical-align: top;\n",
       "    }\n",
       "\n",
       "    .dataframe thead th {\n",
       "        text-align: right;\n",
       "    }\n",
       "</style>\n",
       "<table border=\"1\" class=\"dataframe\">\n",
       "  <thead>\n",
       "    <tr style=\"text-align: right;\">\n",
       "      <th></th>\n",
       "      <th>target</th>\n",
       "      <th>taxa_de_utilizacao_de_linhas_nao_garantidas</th>\n",
       "      <th>idade</th>\n",
       "      <th>numero_de_vezes30_59_dias_atraso_nao_pior</th>\n",
       "      <th>taxa_de_endividamento</th>\n",
       "      <th>renda_mensal</th>\n",
       "      <th>numero_de_linhas_de_credito_e_emprestimos_abertos</th>\n",
       "      <th>numero_de_vezes90_dias_atraso</th>\n",
       "      <th>numero_de_emprestimos_ou_linhas_imobiliarias</th>\n",
       "      <th>numero_de_vezes60_89_dias_atraso_nao_pior</th>\n",
       "      <th>numero_de_dependentes</th>\n",
       "    </tr>\n",
       "  </thead>\n",
       "  <tbody>\n",
       "    <tr>\n",
       "      <th>0</th>\n",
       "      <td>1</td>\n",
       "      <td>0.000015</td>\n",
       "      <td>0.412844</td>\n",
       "      <td>0.020408</td>\n",
       "      <td>0.000002</td>\n",
       "      <td>0.003031</td>\n",
       "      <td>0.224138</td>\n",
       "      <td>0.0</td>\n",
       "      <td>0.111111</td>\n",
       "      <td>0.0</td>\n",
       "      <td>0.1</td>\n",
       "    </tr>\n",
       "  </tbody>\n",
       "</table>\n",
       "</div>"
      ],
      "text/plain": [
       "   target  taxa_de_utilizacao_de_linhas_nao_garantidas     idade  \\\n",
       "0       1                                     0.000015  0.412844   \n",
       "\n",
       "   numero_de_vezes30_59_dias_atraso_nao_pior  taxa_de_endividamento  \\\n",
       "0                                   0.020408               0.000002   \n",
       "\n",
       "   renda_mensal  numero_de_linhas_de_credito_e_emprestimos_abertos  \\\n",
       "0      0.003031                                           0.224138   \n",
       "\n",
       "   numero_de_vezes90_dias_atraso  \\\n",
       "0                            0.0   \n",
       "\n",
       "   numero_de_emprestimos_ou_linhas_imobiliarias  \\\n",
       "0                                      0.111111   \n",
       "\n",
       "   numero_de_vezes60_89_dias_atraso_nao_pior  numero_de_dependentes  \n",
       "0                                        0.0                    0.1  "
      ]
     },
     "execution_count": 191,
     "metadata": {},
     "output_type": "execute_result"
    }
   ],
   "source": [
    "df5.head(1)"
   ]
  },
  {
   "cell_type": "code",
   "execution_count": 192,
   "id": "9b057b77",
   "metadata": {
    "ExecuteTime": {
     "end_time": "2023-12-28T13:28:56.486589Z",
     "start_time": "2023-12-28T13:28:56.422860Z"
    },
    "hidden": true
   },
   "outputs": [],
   "source": [
    "X = df5.drop(columns='target')\n",
    "y = df5['target'].values\n",
    "\n",
    "X_train, X_val, y_train, y_val = train_test_split(X, y, test_size=0.2, stratify=y)"
   ]
  },
  {
   "cell_type": "code",
   "execution_count": 193,
   "id": "b25af732",
   "metadata": {
    "ExecuteTime": {
     "end_time": "2023-12-28T13:28:56.521694Z",
     "start_time": "2023-12-28T13:28:56.488654Z"
    },
    "hidden": true
   },
   "outputs": [],
   "source": [
    "# Selecionador de Features\n",
    "select = SelectPercentile(percentile=50)\n",
    "select.fit(X_train, y_train)\n",
    "\n",
    "# Retorna o indice das features selecionadas\n",
    "X_train_select = select.get_support(indices=True)"
   ]
  },
  {
   "cell_type": "code",
   "execution_count": 194,
   "id": "f3545756",
   "metadata": {
    "ExecuteTime": {
     "end_time": "2023-12-28T13:28:56.527549Z",
     "start_time": "2023-12-28T13:28:56.523997Z"
    },
    "hidden": true
   },
   "outputs": [],
   "source": [
    "# Nome das colunas selecionadas\n",
    "selected_columns = np.array(X_train.columns)[X_train_select]"
   ]
  },
  {
   "cell_type": "markdown",
   "id": "21762d51",
   "metadata": {
    "heading_collapsed": true
   },
   "source": [
    "# 7. Machine Learning Modeling"
   ]
  },
  {
   "cell_type": "markdown",
   "id": "b5007ed0",
   "metadata": {
    "heading_collapsed": true,
    "hidden": true
   },
   "source": [
    "## 7.1 Baseline"
   ]
  },
  {
   "cell_type": "code",
   "execution_count": 201,
   "id": "d9fd93fa",
   "metadata": {
    "ExecuteTime": {
     "end_time": "2023-12-28T13:41:18.674901Z",
     "start_time": "2023-12-28T13:41:18.310022Z"
    },
    "hidden": true
   },
   "outputs": [],
   "source": [
    "lr = LogisticRegression(max_iter=1000)\n",
    "lr.fit(X_train, y_train)\n",
    "\n",
    "y_hat = lr.predict_proba(X_val)[:, 1]"
   ]
  },
  {
   "cell_type": "code",
   "execution_count": 202,
   "id": "081c5640",
   "metadata": {
    "ExecuteTime": {
     "end_time": "2023-12-28T13:41:23.093082Z",
     "start_time": "2023-12-28T13:41:23.079713Z"
    },
    "hidden": true
   },
   "outputs": [
    {
     "name": "stdout",
     "output_type": "stream",
     "text": [
      "Score com todas as features: 0.6742570346771044\n"
     ]
    }
   ],
   "source": [
    "print(f\"Score com todas as features: {roc_auc_score(y_val, y_hat)}\")"
   ]
  },
  {
   "cell_type": "markdown",
   "id": "df85efe3",
   "metadata": {
    "ExecuteTime": {
     "end_time": "2023-12-28T13:41:41.946293Z",
     "start_time": "2023-12-28T13:41:41.941374Z"
    },
    "heading_collapsed": true,
    "hidden": true
   },
   "source": [
    "## 7.2 Colunas Selecionadas"
   ]
  },
  {
   "cell_type": "code",
   "execution_count": 209,
   "id": "307ff6f4",
   "metadata": {
    "ExecuteTime": {
     "end_time": "2023-12-28T13:43:09.606737Z",
     "start_time": "2023-12-28T13:43:09.411328Z"
    },
    "hidden": true
   },
   "outputs": [],
   "source": [
    "lr = LogisticRegression(max_iter=1000)\n",
    "lr.fit(X_train[selected_columns], y_train)\n",
    "\n",
    "y_hat = lr.predict_proba(X_val[selected_columns])[:, 1]"
   ]
  },
  {
   "cell_type": "code",
   "execution_count": 210,
   "id": "fa2b6801",
   "metadata": {
    "ExecuteTime": {
     "end_time": "2023-12-28T13:43:10.271024Z",
     "start_time": "2023-12-28T13:43:10.258601Z"
    },
    "hidden": true
   },
   "outputs": [
    {
     "name": "stdout",
     "output_type": "stream",
     "text": [
      "Score com todas as features: 0.6736196925083255\n"
     ]
    }
   ],
   "source": [
    "print(f\"Score com todas as features: {roc_auc_score(y_val, y_hat)}\")"
   ]
  },
  {
   "cell_type": "markdown",
   "id": "5bcaf946",
   "metadata": {
    "heading_collapsed": true
   },
   "source": [
    "# 8. Model Tunnig"
   ]
  },
  {
   "cell_type": "code",
   "execution_count": 213,
   "id": "89c677d1",
   "metadata": {
    "ExecuteTime": {
     "end_time": "2023-12-28T14:13:47.061127Z",
     "start_time": "2023-12-28T14:13:01.563446Z"
    },
    "hidden": true
   },
   "outputs": [
    {
     "data": {
      "text/html": [
       "<div>\n",
       "<style scoped>\n",
       "    .dataframe tbody tr th:only-of-type {\n",
       "        vertical-align: middle;\n",
       "    }\n",
       "\n",
       "    .dataframe tbody tr th {\n",
       "        vertical-align: top;\n",
       "    }\n",
       "\n",
       "    .dataframe thead th {\n",
       "        text-align: right;\n",
       "    }\n",
       "</style>\n",
       "<table border=\"1\" class=\"dataframe\">\n",
       "  <thead>\n",
       "    <tr style=\"text-align: right;\">\n",
       "      <th></th>\n",
       "      <th>Modelo</th>\n",
       "      <th>max_iter</th>\n",
       "      <th>solver</th>\n",
       "      <th>penalty</th>\n",
       "      <th>class_weight</th>\n",
       "      <th>AUC</th>\n",
       "    </tr>\n",
       "  </thead>\n",
       "  <tbody>\n",
       "    <tr>\n",
       "      <th>0</th>\n",
       "      <td>LogisticRegression</td>\n",
       "      <td>1000.0</td>\n",
       "      <td>newton-cg</td>\n",
       "      <td>NaN</td>\n",
       "      <td>NaN</td>\n",
       "      <td>0.703551</td>\n",
       "    </tr>\n",
       "    <tr>\n",
       "      <th>1</th>\n",
       "      <td>LogisticRegression</td>\n",
       "      <td>1000.0</td>\n",
       "      <td>lbfgs</td>\n",
       "      <td>NaN</td>\n",
       "      <td>NaN</td>\n",
       "      <td>0.703548</td>\n",
       "    </tr>\n",
       "    <tr>\n",
       "      <th>2</th>\n",
       "      <td>LogisticRegression</td>\n",
       "      <td>1000.0</td>\n",
       "      <td>sag</td>\n",
       "      <td>NaN</td>\n",
       "      <td>NaN</td>\n",
       "      <td>0.703521</td>\n",
       "    </tr>\n",
       "    <tr>\n",
       "      <th>3</th>\n",
       "      <td>LogisticRegression</td>\n",
       "      <td>1000.0</td>\n",
       "      <td>saga</td>\n",
       "      <td>NaN</td>\n",
       "      <td>NaN</td>\n",
       "      <td>0.703499</td>\n",
       "    </tr>\n",
       "  </tbody>\n",
       "</table>\n",
       "</div>"
      ],
      "text/plain": [
       "               Modelo  max_iter     solver  penalty  class_weight       AUC\n",
       "0  LogisticRegression    1000.0  newton-cg      NaN           NaN  0.703551\n",
       "1  LogisticRegression    1000.0      lbfgs      NaN           NaN  0.703548\n",
       "2  LogisticRegression    1000.0        sag      NaN           NaN  0.703521\n",
       "3  LogisticRegression    1000.0       saga      NaN           NaN  0.703499"
      ]
     },
     "execution_count": 213,
     "metadata": {},
     "output_type": "execute_result"
    }
   ],
   "source": [
    "clf = [\n",
    "    LogisticRegression(solver='newton-cg', penalty=None, max_iter=1000),\n",
    "    LogisticRegression(solver='lbfgs', penalty=None, max_iter=1000),\n",
    "    LogisticRegression(solver='sag', penalty=None, max_iter=1000),\n",
    "    LogisticRegression(solver='saga', penalty=None, max_iter=1000)\n",
    "    ]\n",
    "clf_columns = []\n",
    "clf_compare = pd.DataFrame(columns=clf_columns)\n",
    "\n",
    "row_index = 0\n",
    "for lrs in clf:\n",
    "    y_preds = lrs.fit(X_train, y_train).predict_proba(X_val)[:, 1]\n",
    "    auc = roc_auc_score(y_val, y_preds)\n",
    "    clf_name = lrs.__class__.__name__\n",
    "    clf_compare.loc[row_index, 'Modelo'] = clf_name\n",
    "    clf_compare.loc[row_index, 'max_iter'] = lrs.max_iter\n",
    "    clf_compare.loc[row_index, 'solver'] = lrs.solver\n",
    "    clf_compare.loc[row_index, 'penalty'] = lrs.penalty\n",
    "    clf_compare.loc[row_index, 'class_weight'] = lrs.class_weight\n",
    "    clf_compare.loc[row_index, 'AUC'] = auc\n",
    "    \n",
    "    row_index += 1\n",
    "    \n",
    "clf_compare.sort_values('AUC', ascending=False, inplace=True)\n",
    "clf_compare"
   ]
  },
  {
   "cell_type": "markdown",
   "id": "da709288",
   "metadata": {
    "heading_collapsed": true
   },
   "source": [
    "# 9. Deploy do Modelo "
   ]
  },
  {
   "cell_type": "code",
   "execution_count": 214,
   "id": "dac6401e",
   "metadata": {
    "ExecuteTime": {
     "end_time": "2023-12-28T14:23:33.503861Z",
     "start_time": "2023-12-28T14:23:32.440066Z"
    },
    "hidden": true
   },
   "outputs": [
    {
     "data": {
      "text/html": [
       "<style>#sk-container-id-2 {color: black;}#sk-container-id-2 pre{padding: 0;}#sk-container-id-2 div.sk-toggleable {background-color: white;}#sk-container-id-2 label.sk-toggleable__label {cursor: pointer;display: block;width: 100%;margin-bottom: 0;padding: 0.3em;box-sizing: border-box;text-align: center;}#sk-container-id-2 label.sk-toggleable__label-arrow:before {content: \"▸\";float: left;margin-right: 0.25em;color: #696969;}#sk-container-id-2 label.sk-toggleable__label-arrow:hover:before {color: black;}#sk-container-id-2 div.sk-estimator:hover label.sk-toggleable__label-arrow:before {color: black;}#sk-container-id-2 div.sk-toggleable__content {max-height: 0;max-width: 0;overflow: hidden;text-align: left;background-color: #f0f8ff;}#sk-container-id-2 div.sk-toggleable__content pre {margin: 0.2em;color: black;border-radius: 0.25em;background-color: #f0f8ff;}#sk-container-id-2 input.sk-toggleable__control:checked~div.sk-toggleable__content {max-height: 200px;max-width: 100%;overflow: auto;}#sk-container-id-2 input.sk-toggleable__control:checked~label.sk-toggleable__label-arrow:before {content: \"▾\";}#sk-container-id-2 div.sk-estimator input.sk-toggleable__control:checked~label.sk-toggleable__label {background-color: #d4ebff;}#sk-container-id-2 div.sk-label input.sk-toggleable__control:checked~label.sk-toggleable__label {background-color: #d4ebff;}#sk-container-id-2 input.sk-hidden--visually {border: 0;clip: rect(1px 1px 1px 1px);clip: rect(1px, 1px, 1px, 1px);height: 1px;margin: -1px;overflow: hidden;padding: 0;position: absolute;width: 1px;}#sk-container-id-2 div.sk-estimator {font-family: monospace;background-color: #f0f8ff;border: 1px dotted black;border-radius: 0.25em;box-sizing: border-box;margin-bottom: 0.5em;}#sk-container-id-2 div.sk-estimator:hover {background-color: #d4ebff;}#sk-container-id-2 div.sk-parallel-item::after {content: \"\";width: 100%;border-bottom: 1px solid gray;flex-grow: 1;}#sk-container-id-2 div.sk-label:hover label.sk-toggleable__label {background-color: #d4ebff;}#sk-container-id-2 div.sk-serial::before {content: \"\";position: absolute;border-left: 1px solid gray;box-sizing: border-box;top: 0;bottom: 0;left: 50%;z-index: 0;}#sk-container-id-2 div.sk-serial {display: flex;flex-direction: column;align-items: center;background-color: white;padding-right: 0.2em;padding-left: 0.2em;position: relative;}#sk-container-id-2 div.sk-item {position: relative;z-index: 1;}#sk-container-id-2 div.sk-parallel {display: flex;align-items: stretch;justify-content: center;background-color: white;position: relative;}#sk-container-id-2 div.sk-item::before, #sk-container-id-2 div.sk-parallel-item::before {content: \"\";position: absolute;border-left: 1px solid gray;box-sizing: border-box;top: 0;bottom: 0;left: 50%;z-index: -1;}#sk-container-id-2 div.sk-parallel-item {display: flex;flex-direction: column;z-index: 1;position: relative;background-color: white;}#sk-container-id-2 div.sk-parallel-item:first-child::after {align-self: flex-end;width: 50%;}#sk-container-id-2 div.sk-parallel-item:last-child::after {align-self: flex-start;width: 50%;}#sk-container-id-2 div.sk-parallel-item:only-child::after {width: 0;}#sk-container-id-2 div.sk-dashed-wrapped {border: 1px dashed gray;margin: 0 0.4em 0.5em 0.4em;box-sizing: border-box;padding-bottom: 0.4em;background-color: white;}#sk-container-id-2 div.sk-label label {font-family: monospace;font-weight: bold;display: inline-block;line-height: 1.2em;}#sk-container-id-2 div.sk-label-container {text-align: center;}#sk-container-id-2 div.sk-container {/* jupyter's `normalize.less` sets `[hidden] { display: none; }` but bootstrap.min.css set `[hidden] { display: none !important; }` so we also need the `!important` here to be able to override the default hidden behavior on the sphinx rendered scikit-learn.org. See: https://github.com/scikit-learn/scikit-learn/issues/21755 */display: inline-block !important;position: relative;}#sk-container-id-2 div.sk-text-repr-fallback {display: none;}</style><div id=\"sk-container-id-2\" class=\"sk-top-container\"><div class=\"sk-text-repr-fallback\"><pre>LogisticRegression(max_iter=1000, penalty=None, solver=&#x27;newton-cg&#x27;)</pre><b>In a Jupyter environment, please rerun this cell to show the HTML representation or trust the notebook. <br />On GitHub, the HTML representation is unable to render, please try loading this page with nbviewer.org.</b></div><div class=\"sk-container\" hidden><div class=\"sk-item\"><div class=\"sk-estimator sk-toggleable\"><input class=\"sk-toggleable__control sk-hidden--visually\" id=\"sk-estimator-id-2\" type=\"checkbox\" checked><label for=\"sk-estimator-id-2\" class=\"sk-toggleable__label sk-toggleable__label-arrow\">LogisticRegression</label><div class=\"sk-toggleable__content\"><pre>LogisticRegression(max_iter=1000, penalty=None, solver=&#x27;newton-cg&#x27;)</pre></div></div></div></div></div>"
      ],
      "text/plain": [
       "LogisticRegression(max_iter=1000, penalty=None, solver='newton-cg')"
      ]
     },
     "execution_count": 214,
     "metadata": {},
     "output_type": "execute_result"
    }
   ],
   "source": [
    "modelo_final = LogisticRegression(solver='newton-cg', penalty=None, max_iter=1000)\n",
    "modelo_final.fit(X_train, y_train)"
   ]
  },
  {
   "cell_type": "code",
   "execution_count": 217,
   "id": "ddc0435f",
   "metadata": {
    "ExecuteTime": {
     "end_time": "2023-12-28T14:26:09.123218Z",
     "start_time": "2023-12-28T14:26:09.115585Z"
    },
    "hidden": true
   },
   "outputs": [],
   "source": [
    "pickle.dump(modelo_final, open('modelo/modelo_final.pkl', 'wb'))"
   ]
  }
 ],
 "metadata": {
  "kernelspec": {
   "display_name": "Python 3 (ipykernel)",
   "language": "python",
   "name": "python3"
  },
  "language_info": {
   "codemirror_mode": {
    "name": "ipython",
    "version": 3
   },
   "file_extension": ".py",
   "mimetype": "text/x-python",
   "name": "python",
   "nbconvert_exporter": "python",
   "pygments_lexer": "ipython3",
   "version": "3.11.5"
  },
  "varInspector": {
   "cols": {
    "lenName": 16,
    "lenType": 16,
    "lenVar": 40
   },
   "kernels_config": {
    "python": {
     "delete_cmd_postfix": "",
     "delete_cmd_prefix": "del ",
     "library": "var_list.py",
     "varRefreshCmd": "print(var_dic_list())"
    },
    "r": {
     "delete_cmd_postfix": ") ",
     "delete_cmd_prefix": "rm(",
     "library": "var_list.r",
     "varRefreshCmd": "cat(var_dic_list()) "
    }
   },
   "types_to_exclude": [
    "module",
    "function",
    "builtin_function_or_method",
    "instance",
    "_Feature"
   ],
   "window_display": false
  }
 },
 "nbformat": 4,
 "nbformat_minor": 5
}
