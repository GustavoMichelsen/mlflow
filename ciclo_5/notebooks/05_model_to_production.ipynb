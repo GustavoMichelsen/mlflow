{
 "cells": [
  {
   "cell_type": "markdown",
   "id": "6621ccfe-b3c5-4e1a-9541-df10bdc33d5e",
   "metadata": {},
   "source": [
    "# 0. Imports"
   ]
  },
  {
   "cell_type": "code",
   "execution_count": 1,
   "id": "e15339e7-dd00-470c-a7b4-d618372926f1",
   "metadata": {},
   "outputs": [],
   "source": [
    "import mlflow"
   ]
  },
  {
   "cell_type": "code",
   "execution_count": 2,
   "id": "b71be05f-3988-4280-9b4b-7e6f403c8758",
   "metadata": {},
   "outputs": [
    {
     "data": {
      "text/plain": [
       "<Experiment: artifact_location='mlflow-artifacts:/1', creation_time=1704470502137, experiment_id='1', last_update_time=1704470502137, lifecycle_stage='active', name='prob_learng', tags={}>"
      ]
     },
     "execution_count": 2,
     "metadata": {},
     "output_type": "execute_result"
    }
   ],
   "source": [
    "mlflow.set_tracking_uri('http://127.0.0.1:5000/')\n",
    "mlflow.set_experiment('prob_learng')"
   ]
  },
  {
   "cell_type": "code",
   "execution_count": 3,
   "id": "6aba69db-8b25-4453-81ef-31d4e1977d23",
   "metadata": {},
   "outputs": [],
   "source": [
    "client = mlflow.tracking.MlflowClient()"
   ]
  },
  {
   "cell_type": "markdown",
   "id": "4df19fcd-548b-4925-81dc-20806d16960f",
   "metadata": {},
   "source": [
    "# 1. Transição do modelo para produção"
   ]
  },
  {
   "cell_type": "code",
   "execution_count": 5,
   "id": "0df08b2c-8661-4e3e-ad54-a8fccb1c79de",
   "metadata": {},
   "outputs": [
    {
     "name": "stderr",
     "output_type": "stream",
     "text": [
      "C:\\Users\\gustavo_michelsen\\AppData\\Local\\Temp\\ipykernel_10636\\48651421.py:1: FutureWarning: ``mlflow.tracking.client.MlflowClient.transition_model_version_stage`` is deprecated since 2.9.0. Model registry stages will be removed in a future major release. To learn more about the deprecation of model registry stages, see our migration guide here: https://mlflow.org/docs/2.9.2/model-registry.html#migrating-from-stages\n",
      "  client.transition_model_version_stage(\n"
     ]
    },
    {
     "data": {
      "text/plain": [
       "<ModelVersion: aliases=[], creation_timestamp=1704724447558, current_stage='Production', description='', last_updated_timestamp=1704738005347, name='model.joblib', run_id='822ff65cf0da436590fc9e0fadecd697', run_link='', source='mlflow-artifacts:/1/822ff65cf0da436590fc9e0fadecd697/artifacts/model.joblib', status='READY', status_message='', tags={}, user_id='', version='1'>"
      ]
     },
     "execution_count": 5,
     "metadata": {},
     "output_type": "execute_result"
    }
   ],
   "source": [
    "client.transition_model_version_stage(\n",
    "    name='model.joblib',\n",
    "    version='1',\n",
    "    stage='Production')"
   ]
  },
  {
   "cell_type": "markdown",
   "id": "36ce4e16-77d0-4d47-9562-c1a7cb9c23b8",
   "metadata": {},
   "source": [
    "# 2. Detalhes do modelo em produção"
   ]
  },
  {
   "cell_type": "code",
   "execution_count": 6,
   "id": "47f904bc-3c56-43a6-8bba-6ca335a3bfd2",
   "metadata": {},
   "outputs": [],
   "source": [
    "model_version_detail = client.get_model_version(\n",
    "    name='model.joblib',\n",
    "    version='1')"
   ]
  },
  {
   "cell_type": "code",
   "execution_count": 7,
   "id": "7ed4fb63-ae56-4a7b-b998-c2f94a769217",
   "metadata": {},
   "outputs": [
    {
     "data": {
      "text/plain": [
       "<ModelVersion: aliases=[], creation_timestamp=1704724447558, current_stage='Production', description='', last_updated_timestamp=1704738005347, name='model.joblib', run_id='822ff65cf0da436590fc9e0fadecd697', run_link='', source='mlflow-artifacts:/1/822ff65cf0da436590fc9e0fadecd697/artifacts/model.joblib', status='READY', status_message='', tags={}, user_id='', version='1'>"
      ]
     },
     "execution_count": 7,
     "metadata": {},
     "output_type": "execute_result"
    }
   ],
   "source": [
    "model_version_detail"
   ]
  },
  {
   "cell_type": "markdown",
   "id": "7b89b9c4-1cb0-45c0-af54-5d55380f1724",
   "metadata": {},
   "source": [
    "# 3. Versão mais atual do modelo"
   ]
  },
  {
   "cell_type": "code",
   "execution_count": 8,
   "id": "2b1217fa-6263-4b4f-8cd6-c50cecbe4a49",
   "metadata": {},
   "outputs": [
    {
     "name": "stderr",
     "output_type": "stream",
     "text": [
      "C:\\Users\\gustavo_michelsen\\AppData\\Local\\Temp\\ipykernel_10636\\1183125177.py:1: FutureWarning: ``mlflow.tracking.client.MlflowClient.get_latest_versions`` is deprecated since 2.9.0. Model registry stages will be removed in a future major release. To learn more about the deprecation of model registry stages, see our migration guide here: https://mlflow.org/docs/2.9.2/model-registry.html#migrating-from-stages\n",
      "  client.get_latest_versions('model.joblib', stages=['Production'])\n"
     ]
    },
    {
     "data": {
      "text/plain": [
       "[<ModelVersion: aliases=[], creation_timestamp=1704724447558, current_stage='Production', description='', last_updated_timestamp=1704738005347, name='model.joblib', run_id='822ff65cf0da436590fc9e0fadecd697', run_link='', source='mlflow-artifacts:/1/822ff65cf0da436590fc9e0fadecd697/artifacts/model.joblib', status='READY', status_message='', tags={}, user_id='', version='1'>]"
      ]
     },
     "execution_count": 8,
     "metadata": {},
     "output_type": "execute_result"
    }
   ],
   "source": [
    "client.get_latest_versions('model.joblib', stages=['Production'])"
   ]
  },
  {
   "cell_type": "code",
   "execution_count": null,
   "id": "466785b2-0187-4099-8178-febac0c29672",
   "metadata": {},
   "outputs": [],
   "source": []
  },
  {
   "cell_type": "code",
   "execution_count": null,
   "id": "be89536f-edd5-42bc-a828-d0d1eba2610b",
   "metadata": {},
   "outputs": [],
   "source": []
  },
  {
   "cell_type": "code",
   "execution_count": null,
   "id": "299d41d6-482f-4ce8-b964-abc28fc7511c",
   "metadata": {},
   "outputs": [],
   "source": []
  },
  {
   "cell_type": "code",
   "execution_count": null,
   "id": "697c1c32-0582-4f44-b7df-3622df25bfa2",
   "metadata": {},
   "outputs": [],
   "source": []
  },
  {
   "cell_type": "code",
   "execution_count": null,
   "id": "c9dc91c0-8d71-4edf-b18f-40332472733a",
   "metadata": {},
   "outputs": [],
   "source": []
  },
  {
   "cell_type": "code",
   "execution_count": null,
   "id": "386a9c36-edaf-42bc-91de-34446684da59",
   "metadata": {},
   "outputs": [],
   "source": []
  },
  {
   "cell_type": "code",
   "execution_count": null,
   "id": "8aff93a2-0c05-4241-808e-142e6e39590c",
   "metadata": {},
   "outputs": [],
   "source": []
  },
  {
   "cell_type": "code",
   "execution_count": null,
   "id": "b2db75e2-9195-431d-ba96-ea2a01be6021",
   "metadata": {},
   "outputs": [],
   "source": []
  },
  {
   "cell_type": "code",
   "execution_count": null,
   "id": "80355add-cb8e-4328-8aaf-6954aa4fd4fa",
   "metadata": {},
   "outputs": [],
   "source": []
  },
  {
   "cell_type": "code",
   "execution_count": null,
   "id": "178eb13b-32ef-4152-9702-6b83c34c0e3b",
   "metadata": {},
   "outputs": [],
   "source": []
  },
  {
   "cell_type": "code",
   "execution_count": null,
   "id": "4c9ca893-6d01-467c-a464-c8b711544c3a",
   "metadata": {},
   "outputs": [],
   "source": []
  },
  {
   "cell_type": "code",
   "execution_count": null,
   "id": "77f1865d-a82d-4e8d-bba7-dfb291699559",
   "metadata": {},
   "outputs": [],
   "source": []
  },
  {
   "cell_type": "code",
   "execution_count": null,
   "id": "9fabb5e5-9c41-4fe2-8cf1-3f3cd4cd2dee",
   "metadata": {},
   "outputs": [],
   "source": []
  },
  {
   "cell_type": "code",
   "execution_count": null,
   "id": "6b4589c5-6fe3-43a1-a683-c2a50ce51aad",
   "metadata": {},
   "outputs": [],
   "source": []
  },
  {
   "cell_type": "code",
   "execution_count": null,
   "id": "10ced9cd-a9f6-4348-b758-6b612d26764b",
   "metadata": {},
   "outputs": [],
   "source": []
  },
  {
   "cell_type": "code",
   "execution_count": null,
   "id": "553aa462-90c6-4c9b-a209-c9b5b3a9a6b6",
   "metadata": {},
   "outputs": [],
   "source": []
  },
  {
   "cell_type": "code",
   "execution_count": null,
   "id": "abee5da0-f3db-4e73-94d7-b5a1a15e1483",
   "metadata": {},
   "outputs": [],
   "source": []
  },
  {
   "cell_type": "code",
   "execution_count": null,
   "id": "b237f645-aabf-40a9-823d-b7349b256b56",
   "metadata": {},
   "outputs": [],
   "source": []
  },
  {
   "cell_type": "code",
   "execution_count": null,
   "id": "552a2502-b7b1-4d03-95b9-d99bf2180da8",
   "metadata": {},
   "outputs": [],
   "source": []
  },
  {
   "cell_type": "code",
   "execution_count": null,
   "id": "e9e4fc9f-e255-4901-a007-28b111dd891d",
   "metadata": {},
   "outputs": [],
   "source": []
  },
  {
   "cell_type": "code",
   "execution_count": null,
   "id": "6963a8a0-a6ca-473d-b743-e5ba57373eaa",
   "metadata": {},
   "outputs": [],
   "source": []
  },
  {
   "cell_type": "code",
   "execution_count": null,
   "id": "35233b74-69fd-4c00-8939-111d5c7449ae",
   "metadata": {},
   "outputs": [],
   "source": []
  },
  {
   "cell_type": "code",
   "execution_count": null,
   "id": "52986ea5-d72f-40d3-9d83-7cb878762ebc",
   "metadata": {},
   "outputs": [],
   "source": []
  },
  {
   "cell_type": "code",
   "execution_count": null,
   "id": "59167e78-be0a-495d-b75f-7442c7e3c732",
   "metadata": {},
   "outputs": [],
   "source": []
  }
 ],
 "metadata": {
  "kernelspec": {
   "display_name": "Python 3 (ipykernel)",
   "language": "python",
   "name": "python3"
  },
  "language_info": {
   "codemirror_mode": {
    "name": "ipython",
    "version": 3
   },
   "file_extension": ".py",
   "mimetype": "text/x-python",
   "name": "python",
   "nbconvert_exporter": "python",
   "pygments_lexer": "ipython3",
   "version": "3.11.5"
  }
 },
 "nbformat": 4,
 "nbformat_minor": 5
}
