{
 "cells": [
  {
   "cell_type": "markdown",
   "id": "c7f9421f-5d10-4c8b-8828-324f94ad964b",
   "metadata": {},
   "source": [
    "# 0. Imports"
   ]
  },
  {
   "cell_type": "markdown",
   "id": "f3813710-7dd2-4c12-a5ba-45931be00e13",
   "metadata": {},
   "source": [
    "## 0.1 Bibliotecas"
   ]
  },
  {
   "cell_type": "code",
   "execution_count": 1,
   "id": "3eb869eb-0183-4621-89fa-d2f37d4b9fd7",
   "metadata": {},
   "outputs": [],
   "source": [
    "from IPython.display import display, HTML"
   ]
  },
  {
   "cell_type": "code",
   "execution_count": 2,
   "id": "2ab697d9-61c5-4f11-953e-53e075e9e94e",
   "metadata": {},
   "outputs": [],
   "source": [
    "import sys\n",
    "\n",
    "sys.path.insert(0, '../src/')\n",
    "\n",
    "import joblib\n",
    "from sklearn.pipeline              import Pipeline\n",
    "from sklearn.preprocessing         import StandardScaler\n",
    "from feature_engine.discretisation import EqualFrequencyDiscretiser\n",
    "from feature_engine.imputation     import MeanMedianImputer\n",
    "from feature_engine.wrappers       import SklearnTransformerWrapper\n",
    "from sklearn.linear_model          import LogisticRegression\n",
    "\n",
    "from utils.utils               import load_config_file\n",
    "from data.dataload             import DataLoad\n",
    "from data.datavalidation       import DataValidation\n",
    "from data.datatranformation    import DataTransformation\n",
    "# from data.datapreprocessing    import DataPreprocess\n",
    "# from train.train               import TrainModel\n",
    "from evaluation.classfier_eval import ModelEvaluation"
   ]
  },
  {
   "cell_type": "markdown",
   "id": "1ad0039c-54c2-4717-9625-f85991fe3cfd",
   "metadata": {},
   "source": [
    "## 0.2 Funções de Ajuda"
   ]
  },
  {
   "cell_type": "code",
   "execution_count": null,
   "id": "411ad8c8-af33-4c07-b9b8-513074d70491",
   "metadata": {},
   "outputs": [],
   "source": []
  },
  {
   "cell_type": "markdown",
   "id": "0a85c18d-1c7e-421d-bb0c-64a17fc4f7d7",
   "metadata": {},
   "source": [
    "## 0.3 Configurações do Jupyter"
   ]
  },
  {
   "cell_type": "code",
   "execution_count": 3,
   "id": "ada2c87a-909d-4d9f-b4b4-aa3d0e38dd23",
   "metadata": {},
   "outputs": [
    {
     "data": {
      "text/html": [
       "<style>.container { width:90% !important; }</style>"
      ],
      "text/plain": [
       "<IPython.core.display.HTML object>"
      ]
     },
     "metadata": {},
     "output_type": "display_data"
    }
   ],
   "source": [
    "# Deixar o jupyper em widescreen\n",
    "display(HTML(\"<style>.container { width:90% !important; }</style>\"))\n",
    "\n",
    "# Seta o máximo de colunas e linhas que o pandas vai exibir\n",
    "# pd.set_option('display.max_columns', 20)\n",
    "# pd.set_option('display.max_rows', 60)"
   ]
  },
  {
   "cell_type": "markdown",
   "id": "2d76bfc1-a466-4beb-856d-98a3ce66ee89",
   "metadata": {},
   "source": [
    "# 1. DataLoad"
   ]
  },
  {
   "cell_type": "code",
   "execution_count": 4,
   "id": "39c6b0b9-7fc0-4d1a-9955-5e05894c2b45",
   "metadata": {},
   "outputs": [
    {
     "data": {
      "text/html": [
       "<div>\n",
       "<style scoped>\n",
       "    .dataframe tbody tr th:only-of-type {\n",
       "        vertical-align: middle;\n",
       "    }\n",
       "\n",
       "    .dataframe tbody tr th {\n",
       "        vertical-align: top;\n",
       "    }\n",
       "\n",
       "    .dataframe thead th {\n",
       "        text-align: right;\n",
       "    }\n",
       "</style>\n",
       "<table border=\"1\" class=\"dataframe\">\n",
       "  <thead>\n",
       "    <tr style=\"text-align: right;\">\n",
       "      <th></th>\n",
       "      <th>target</th>\n",
       "      <th>TaxaDeUtilizacaoDeLinhasNaoGarantidas</th>\n",
       "      <th>Idade</th>\n",
       "      <th>NumeroDeVezes30-59DiasAtrasoNaoPior</th>\n",
       "      <th>TaxaDeEndividamento</th>\n",
       "      <th>RendaMensal</th>\n",
       "      <th>NumeroDeLinhasDeCreditoEEmprestimosAbertos</th>\n",
       "      <th>NumeroDeVezes90DiasAtraso</th>\n",
       "      <th>NumeroDeEmprestimosOuLinhasImobiliarias</th>\n",
       "      <th>NumeroDeVezes60-89DiasAtrasoNaoPior</th>\n",
       "      <th>NumeroDeDependentes</th>\n",
       "    </tr>\n",
       "  </thead>\n",
       "  <tbody>\n",
       "    <tr>\n",
       "      <th>0</th>\n",
       "      <td>1</td>\n",
       "      <td>0.766127</td>\n",
       "      <td>45</td>\n",
       "      <td>2</td>\n",
       "      <td>0.802982</td>\n",
       "      <td>9120.0</td>\n",
       "      <td>13</td>\n",
       "      <td>0</td>\n",
       "      <td>6</td>\n",
       "      <td>0</td>\n",
       "      <td>2.0</td>\n",
       "    </tr>\n",
       "  </tbody>\n",
       "</table>\n",
       "</div>"
      ],
      "text/plain": [
       "   target  TaxaDeUtilizacaoDeLinhasNaoGarantidas  Idade  \\\n",
       "0       1                               0.766127     45   \n",
       "\n",
       "   NumeroDeVezes30-59DiasAtrasoNaoPior  TaxaDeEndividamento  RendaMensal  \\\n",
       "0                                    2             0.802982       9120.0   \n",
       "\n",
       "   NumeroDeLinhasDeCreditoEEmprestimosAbertos  NumeroDeVezes90DiasAtraso  \\\n",
       "0                                          13                          0   \n",
       "\n",
       "   NumeroDeEmprestimosOuLinhasImobiliarias  \\\n",
       "0                                        6   \n",
       "\n",
       "   NumeroDeVezes60-89DiasAtrasoNaoPior  NumeroDeDependentes  \n",
       "0                                    0                  2.0  "
      ]
     },
     "execution_count": 4,
     "metadata": {},
     "output_type": "execute_result"
    }
   ],
   "source": [
    "dl = DataLoad()\n",
    "df = dl.load_data('train_dataset_name')\n",
    "df.head(1)"
   ]
  },
  {
   "cell_type": "markdown",
   "id": "6b472c6a-a5ff-43da-a517-ce3eab8d16cc",
   "metadata": {},
   "source": [
    "# 2.Data Validation "
   ]
  },
  {
   "cell_type": "code",
   "execution_count": 5,
   "id": "3818fe91-fd66-42c9-9c13-6b11dbe24621",
   "metadata": {},
   "outputs": [
    {
     "name": "stdout",
     "output_type": "stream",
     "text": [
      "2024-01-08 11:33:53 [info     ] Validação Concluída           \n"
     ]
    },
    {
     "data": {
      "text/plain": [
       "True"
      ]
     },
     "execution_count": 5,
     "metadata": {},
     "output_type": "execute_result"
    }
   ],
   "source": [
    "dv = DataValidation()\n",
    "dv.run(dataframe=df)"
   ]
  },
  {
   "cell_type": "markdown",
   "id": "a7f93430-0b04-497e-9f8c-813617a2adab",
   "metadata": {},
   "source": [
    "# 3. DataTransformation"
   ]
  },
  {
   "cell_type": "code",
   "execution_count": 6,
   "id": "fc978699-e9b0-423a-a5e1-a5a608fe583e",
   "metadata": {},
   "outputs": [],
   "source": [
    "dt = DataTransformation(df)\n",
    "X_train, X_val, y_train, y_val = dt.train_test_spliting()"
   ]
  },
  {
   "cell_type": "markdown",
   "id": "92dc4781-4c29-49b9-90e8-bca4b450a204",
   "metadata": {},
   "source": [
    "# 4. Experimentation"
   ]
  },
  {
   "cell_type": "code",
   "execution_count": 7,
   "id": "6cf31039-cf37-4dad-aa31-39c1db91f41b",
   "metadata": {},
   "outputs": [],
   "source": [
    "import mlflow\n",
    "from mlflow.tracking import MlflowClient"
   ]
  },
  {
   "cell_type": "code",
   "execution_count": 8,
   "id": "61b384bf-de05-4ef9-9894-746f1eebde69",
   "metadata": {},
   "outputs": [
    {
     "data": {
      "text/plain": [
       "<Experiment: artifact_location='mlflow-artifacts:/1', creation_time=1704470502137, experiment_id='1', last_update_time=1704470502137, lifecycle_stage='active', name='prob_learng', tags={}>"
      ]
     },
     "execution_count": 8,
     "metadata": {},
     "output_type": "execute_result"
    }
   ],
   "source": [
    "mlflow.set_tracking_uri('http://127.0.0.1:5000/')\n",
    "mlflow.set_experiment('prob_learng')"
   ]
  },
  {
   "cell_type": "markdown",
   "id": "c930dd09-ccff-4154-b98f-995396f38a09",
   "metadata": {},
   "source": [
    "## 4.1 Select Best Model"
   ]
  },
  {
   "cell_type": "code",
   "execution_count": 9,
   "id": "28b0dd56-d305-4b2a-b4f1-22163a7cf4b3",
   "metadata": {},
   "outputs": [],
   "source": [
    "current_experiment = dict(mlflow.get_experiment_by_name('prob_learng'))"
   ]
  },
  {
   "cell_type": "code",
   "execution_count": 10,
   "id": "913a9f1f-8df4-425a-b7f5-ea4776c9d873",
   "metadata": {},
   "outputs": [],
   "source": [
    "experiment_id = current_experiment['experiment_id']"
   ]
  },
  {
   "cell_type": "code",
   "execution_count": 11,
   "id": "dc910672-4f73-4afc-beba-72b512d66091",
   "metadata": {},
   "outputs": [],
   "source": [
    "df_mlflow = mlflow.search_runs(filter_string='metrics.valid_roc_auc <1').sort_values('metrics.valid_roc_auc', ascending=False)"
   ]
  },
  {
   "cell_type": "code",
   "execution_count": 12,
   "id": "e496c10e-886c-4d19-a988-99af318a901d",
   "metadata": {},
   "outputs": [],
   "source": [
    "run_id = df_mlflow.loc[df_mlflow['metrics.valid_roc_auc'].idxmax(), 'run_id']"
   ]
  },
  {
   "cell_type": "code",
   "execution_count": 13,
   "id": "f3634bff-a08c-4e5d-b4b5-44d6e2d83614",
   "metadata": {},
   "outputs": [],
   "source": [
    "list(df_mlflow.columns)"
   ]
  },
  {
   "cell_type": "code",
   "execution_count": null,
   "id": "47052db5-5df8-4715-869f-a10150a5a2f3",
   "metadata": {},
   "outputs": [],
   "source": []
  },
  {
   "cell_type": "code",
   "execution_count": null,
   "id": "86306fd7-a535-48f7-8032-e71ec1ed2bc2",
   "metadata": {},
   "outputs": [],
   "source": []
  },
  {
   "cell_type": "code",
   "execution_count": null,
   "id": "bf769990-b07f-4a91-b9ff-4fefd1d710f8",
   "metadata": {},
   "outputs": [],
   "source": []
  },
  {
   "cell_type": "code",
   "execution_count": null,
   "id": "ca978746-a741-4623-a7ca-bf67f91b9845",
   "metadata": {},
   "outputs": [],
   "source": []
  },
  {
   "cell_type": "code",
   "execution_count": null,
   "id": "870a9c5c-c654-4787-bb3d-a49c5c5392f7",
   "metadata": {},
   "outputs": [],
   "source": []
  },
  {
   "cell_type": "code",
   "execution_count": null,
   "id": "a9ee879a-8e42-443b-9803-64947d1cd1a4",
   "metadata": {},
   "outputs": [],
   "source": []
  },
  {
   "cell_type": "code",
   "execution_count": null,
   "id": "e29077dc-e591-4f3d-83c8-222806293f14",
   "metadata": {},
   "outputs": [],
   "source": []
  }
 ],
 "metadata": {
  "kernelspec": {
   "display_name": "Python 3 (ipykernel)",
   "language": "python",
   "name": "python3"
  },
  "language_info": {
   "codemirror_mode": {
    "name": "ipython",
    "version": 3
   },
   "file_extension": ".py",
   "mimetype": "text/x-python",
   "name": "python",
   "nbconvert_exporter": "python",
   "pygments_lexer": "ipython3",
   "version": "3.11.5"
  }
 },
 "nbformat": 4,
 "nbformat_minor": 5
}
