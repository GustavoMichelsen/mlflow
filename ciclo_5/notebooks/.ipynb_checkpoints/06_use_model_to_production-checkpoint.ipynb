{
 "cells": [
  {
   "cell_type": "markdown",
   "id": "dddbad4e-9fb8-4bbc-a7e8-d0e47a9fc9e7",
   "metadata": {},
   "source": [
    "# 0. Import"
   ]
  },
  {
   "cell_type": "code",
   "execution_count": 1,
   "id": "618708f4-85c4-4518-ad56-8a8ea57e7e4e",
   "metadata": {},
   "outputs": [],
   "source": [
    "import mlflow"
   ]
  },
  {
   "cell_type": "code",
   "execution_count": 4,
   "id": "e076e541-b27c-418a-ab1c-05fd6b590b2c",
   "metadata": {},
   "outputs": [],
   "source": [
    "mlflow.set_tracking_uri('http://127.0.0.1:5000/')\n",
    "mlflow.set_experiment('prob_learng')\n",
    "\n",
    "client = mlflow.tracking.MlflowClient()"
   ]
  },
  {
   "cell_type": "markdown",
   "id": "1e820c63-79ed-4901-a2f1-dce068bb6019",
   "metadata": {},
   "source": [
    "# 1. Modelo para Produção "
   ]
  },
  {
   "cell_type": "code",
   "execution_count": 7,
   "id": "483587a6-3a61-4877-9348-eed1a02f4c6a",
   "metadata": {},
   "outputs": [],
   "source": [
    "model_production_uri = 'models:/model.joblib/production'"
   ]
  },
  {
   "cell_type": "code",
   "execution_count": 8,
   "id": "e5576ff0-8983-4af0-8039-4b27c8d730d7",
   "metadata": {},
   "outputs": [
    {
     "name": "stderr",
     "output_type": "stream",
     "text": [
      "C:\\Servidor\\OneDrive - CALCADOS BEIRA RIO S A\\Documentos\\repos\\mlflow\\mlflow\\Lib\\site-packages\\tqdm\\auto.py:21: TqdmWarning: IProgress not found. Please update jupyter and ipywidgets. See https://ipywidgets.readthedocs.io/en/stable/user_install.html\n",
      "  from .autonotebook import tqdm as notebook_tqdm\n",
      "Downloading artifacts: 100%|███████████████████████████████████████████████████████████| 6/6 [00:00<00:00, 1041.20it/s]\n"
     ]
    }
   ],
   "source": [
    "model_production = mlflow.pyfunc.load_model(model_production_uri)"
   ]
  },
  {
   "cell_type": "code",
   "execution_count": 9,
   "id": "f86b804c-ca0b-4f8a-8c1a-ba3bf780beae",
   "metadata": {},
   "outputs": [],
   "source": [
    "import pandas as pd"
   ]
  },
  {
   "cell_type": "code",
   "execution_count": 12,
   "id": "6455b79f-8500-4d87-9f1f-f35a0709827c",
   "metadata": {},
   "outputs": [],
   "source": [
    "df = pd.read_csv('../data/raw/test.csv', index_col=0)"
   ]
  },
  {
   "cell_type": "code",
   "execution_count": 16,
   "id": "d011590a-e232-4388-bbc8-e56c72fcea6b",
   "metadata": {},
   "outputs": [
    {
     "data": {
      "text/plain": [
       "array([0.09536916, 0.09343648, 0.02493002, ..., 0.01407086, 0.04354752,\n",
       "       0.0674827 ])"
      ]
     },
     "execution_count": 16,
     "metadata": {},
     "output_type": "execute_result"
    }
   ],
   "source": [
    "model_production.predict(df)[:, 1]"
   ]
  },
  {
   "cell_type": "code",
   "execution_count": null,
   "id": "9ce10022-1f67-408b-8eff-da46bad35457",
   "metadata": {},
   "outputs": [],
   "source": []
  },
  {
   "cell_type": "code",
   "execution_count": null,
   "id": "00adf3ed-af0b-455c-b0d4-03d4c8fd800c",
   "metadata": {},
   "outputs": [],
   "source": []
  },
  {
   "cell_type": "code",
   "execution_count": null,
   "id": "ee6ce583-3d0c-40d2-9565-4e453aa35250",
   "metadata": {},
   "outputs": [],
   "source": []
  },
  {
   "cell_type": "code",
   "execution_count": null,
   "id": "7f6d3e22-e11c-42a8-ac11-1d204de4234b",
   "metadata": {},
   "outputs": [],
   "source": []
  },
  {
   "cell_type": "code",
   "execution_count": null,
   "id": "b0b07ae4-256f-443e-8a94-71fae1463cb9",
   "metadata": {},
   "outputs": [],
   "source": []
  },
  {
   "cell_type": "code",
   "execution_count": null,
   "id": "f8cd29b9-98b0-4e3a-8e5f-f76ec1831272",
   "metadata": {},
   "outputs": [],
   "source": []
  },
  {
   "cell_type": "code",
   "execution_count": null,
   "id": "0607bafa-bb73-453e-9b09-84c50fbdc4b5",
   "metadata": {},
   "outputs": [],
   "source": []
  },
  {
   "cell_type": "code",
   "execution_count": null,
   "id": "27699f5f-6411-492d-a870-447dbd5566a9",
   "metadata": {},
   "outputs": [],
   "source": []
  },
  {
   "cell_type": "code",
   "execution_count": null,
   "id": "8dae8450-5b64-4817-9438-4abbd73be52e",
   "metadata": {},
   "outputs": [],
   "source": []
  },
  {
   "cell_type": "code",
   "execution_count": null,
   "id": "4a633c6a-8599-43c5-9419-3c870aa62e49",
   "metadata": {},
   "outputs": [],
   "source": []
  },
  {
   "cell_type": "code",
   "execution_count": null,
   "id": "9f596ba3-81b5-4b61-a313-22706884966f",
   "metadata": {},
   "outputs": [],
   "source": []
  },
  {
   "cell_type": "code",
   "execution_count": null,
   "id": "9b6b31b7-c9ad-4581-873e-7e391adf28d3",
   "metadata": {},
   "outputs": [],
   "source": []
  },
  {
   "cell_type": "code",
   "execution_count": null,
   "id": "52fe1187-561b-41a1-b15e-d0554666f21f",
   "metadata": {},
   "outputs": [],
   "source": []
  },
  {
   "cell_type": "code",
   "execution_count": null,
   "id": "fe186d12-9490-4397-8656-b0c2f6d2531e",
   "metadata": {},
   "outputs": [],
   "source": []
  },
  {
   "cell_type": "code",
   "execution_count": null,
   "id": "0535cfb5-df4f-45d9-9b32-c622ac250c13",
   "metadata": {},
   "outputs": [],
   "source": []
  },
  {
   "cell_type": "code",
   "execution_count": null,
   "id": "b3fb4f3a-cf2a-410d-bb44-a24bfbe99db6",
   "metadata": {},
   "outputs": [],
   "source": []
  },
  {
   "cell_type": "code",
   "execution_count": null,
   "id": "9f47e8e1-6274-4a6a-bcd9-cdd8c9ca43c8",
   "metadata": {},
   "outputs": [],
   "source": []
  },
  {
   "cell_type": "code",
   "execution_count": null,
   "id": "aa966866-91ae-4664-9210-51870b25b746",
   "metadata": {},
   "outputs": [],
   "source": []
  },
  {
   "cell_type": "code",
   "execution_count": null,
   "id": "0aab36d6-a254-48d5-b220-40065a97fba0",
   "metadata": {},
   "outputs": [],
   "source": []
  },
  {
   "cell_type": "code",
   "execution_count": null,
   "id": "dcce0371-1b7b-4fa5-a86d-5a94c1756948",
   "metadata": {},
   "outputs": [],
   "source": []
  },
  {
   "cell_type": "code",
   "execution_count": null,
   "id": "ee073b23-bc72-45ec-b80d-338d728371cd",
   "metadata": {},
   "outputs": [],
   "source": []
  },
  {
   "cell_type": "code",
   "execution_count": null,
   "id": "1e2cedc0-63d8-44d9-b797-8c1613f51425",
   "metadata": {},
   "outputs": [],
   "source": []
  },
  {
   "cell_type": "code",
   "execution_count": null,
   "id": "9a1b9a7d-07de-46e5-a686-9dcf45fd6685",
   "metadata": {},
   "outputs": [],
   "source": []
  },
  {
   "cell_type": "code",
   "execution_count": null,
   "id": "17fded30-0c84-4eab-951d-9c6aacbaa464",
   "metadata": {},
   "outputs": [],
   "source": []
  },
  {
   "cell_type": "code",
   "execution_count": null,
   "id": "7b8c87c2-7623-4057-87dd-0f32f9a9a00d",
   "metadata": {},
   "outputs": [],
   "source": []
  },
  {
   "cell_type": "code",
   "execution_count": null,
   "id": "b35be58a-335a-494d-b7fc-9e6aa30305e4",
   "metadata": {},
   "outputs": [],
   "source": []
  },
  {
   "cell_type": "code",
   "execution_count": null,
   "id": "49b00f6a-2ff4-4392-bcf7-e38f29bfc94f",
   "metadata": {},
   "outputs": [],
   "source": []
  },
  {
   "cell_type": "code",
   "execution_count": null,
   "id": "6fe1fe88-c4a3-4ab2-841e-fb94c32b5920",
   "metadata": {},
   "outputs": [],
   "source": []
  }
 ],
 "metadata": {
  "kernelspec": {
   "display_name": "Python 3 (ipykernel)",
   "language": "python",
   "name": "python3"
  },
  "language_info": {
   "codemirror_mode": {
    "name": "ipython",
    "version": 3
   },
   "file_extension": ".py",
   "mimetype": "text/x-python",
   "name": "python",
   "nbconvert_exporter": "python",
   "pygments_lexer": "ipython3",
   "version": "3.11.5"
  }
 },
 "nbformat": 4,
 "nbformat_minor": 5
}
