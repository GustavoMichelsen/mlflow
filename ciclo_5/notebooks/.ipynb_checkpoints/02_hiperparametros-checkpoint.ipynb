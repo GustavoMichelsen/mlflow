{
 "cells": [
  {
   "cell_type": "markdown",
   "id": "c7f9421f-5d10-4c8b-8828-324f94ad964b",
   "metadata": {},
   "source": [
    "# 0. Imports"
   ]
  },
  {
   "cell_type": "markdown",
   "id": "f3813710-7dd2-4c12-a5ba-45931be00e13",
   "metadata": {},
   "source": [
    "## 0.1 Bibliotecas"
   ]
  },
  {
   "cell_type": "code",
   "execution_count": 1,
   "id": "3eb869eb-0183-4621-89fa-d2f37d4b9fd7",
   "metadata": {},
   "outputs": [],
   "source": [
    "from IPython.display import display, HTML"
   ]
  },
  {
   "cell_type": "code",
   "execution_count": 2,
   "id": "2ab697d9-61c5-4f11-953e-53e075e9e94e",
   "metadata": {},
   "outputs": [],
   "source": [
    "import sys\n",
    "\n",
    "sys.path.insert(0, '../src/')\n",
    "\n",
    "import joblib\n",
    "from sklearn.pipeline              import Pipeline\n",
    "from sklearn.preprocessing         import StandardScaler\n",
    "from feature_engine.discretisation import EqualFrequencyDiscretiser\n",
    "from feature_engine.imputation     import MeanMedianImputer\n",
    "from feature_engine.wrappers       import SklearnTransformerWrapper\n",
    "from sklearn.linear_model          import LogisticRegression\n",
    "\n",
    "from utils.utils               import load_config_file\n",
    "from data.dataload             import DataLoad\n",
    "from data.datavalidation       import DataValidation\n",
    "from data.datatranformation    import DataTransformation\n",
    "from data.datapreprocessing    import DataPreprocess\n",
    "from train.train               import TrainModel\n",
    "from evaluation.classfier_eval import ModelEvaluation"
   ]
  },
  {
   "cell_type": "markdown",
   "id": "1ad0039c-54c2-4717-9625-f85991fe3cfd",
   "metadata": {},
   "source": [
    "## 0.2 Funções de Ajuda"
   ]
  },
  {
   "cell_type": "code",
   "execution_count": null,
   "id": "411ad8c8-af33-4c07-b9b8-513074d70491",
   "metadata": {},
   "outputs": [],
   "source": []
  },
  {
   "cell_type": "markdown",
   "id": "0a85c18d-1c7e-421d-bb0c-64a17fc4f7d7",
   "metadata": {},
   "source": [
    "## 0.3 Configurações do Jupyter"
   ]
  },
  {
   "cell_type": "code",
   "execution_count": 3,
   "id": "ada2c87a-909d-4d9f-b4b4-aa3d0e38dd23",
   "metadata": {},
   "outputs": [
    {
     "data": {
      "text/html": [
       "<style>.container { width:90% !important; }</style>"
      ],
      "text/plain": [
       "<IPython.core.display.HTML object>"
      ]
     },
     "metadata": {},
     "output_type": "display_data"
    }
   ],
   "source": [
    "# Deixar o jupyper em widescreen\n",
    "display(HTML(\"<style>.container { width:90% !important; }</style>\"))\n",
    "\n",
    "# Seta o máximo de colunas e linhas que o pandas vai exibir\n",
    "# pd.set_option('display.max_columns', 20)\n",
    "# pd.set_option('display.max_rows', 60)"
   ]
  },
  {
   "cell_type": "markdown",
   "id": "2d76bfc1-a466-4beb-856d-98a3ce66ee89",
   "metadata": {},
   "source": [
    "# 1. DataLoad"
   ]
  },
  {
   "cell_type": "code",
   "execution_count": 4,
   "id": "39c6b0b9-7fc0-4d1a-9955-5e05894c2b45",
   "metadata": {},
   "outputs": [
    {
     "data": {
      "text/html": [
       "<div>\n",
       "<style scoped>\n",
       "    .dataframe tbody tr th:only-of-type {\n",
       "        vertical-align: middle;\n",
       "    }\n",
       "\n",
       "    .dataframe tbody tr th {\n",
       "        vertical-align: top;\n",
       "    }\n",
       "\n",
       "    .dataframe thead th {\n",
       "        text-align: right;\n",
       "    }\n",
       "</style>\n",
       "<table border=\"1\" class=\"dataframe\">\n",
       "  <thead>\n",
       "    <tr style=\"text-align: right;\">\n",
       "      <th></th>\n",
       "      <th>target</th>\n",
       "      <th>TaxaDeUtilizacaoDeLinhasNaoGarantidas</th>\n",
       "      <th>Idade</th>\n",
       "      <th>NumeroDeVezes30-59DiasAtrasoNaoPior</th>\n",
       "      <th>TaxaDeEndividamento</th>\n",
       "      <th>RendaMensal</th>\n",
       "      <th>NumeroDeLinhasDeCreditoEEmprestimosAbertos</th>\n",
       "      <th>NumeroDeVezes90DiasAtraso</th>\n",
       "      <th>NumeroDeEmprestimosOuLinhasImobiliarias</th>\n",
       "      <th>NumeroDeVezes60-89DiasAtrasoNaoPior</th>\n",
       "      <th>NumeroDeDependentes</th>\n",
       "    </tr>\n",
       "  </thead>\n",
       "  <tbody>\n",
       "    <tr>\n",
       "      <th>0</th>\n",
       "      <td>1</td>\n",
       "      <td>0.766127</td>\n",
       "      <td>45</td>\n",
       "      <td>2</td>\n",
       "      <td>0.802982</td>\n",
       "      <td>9120.0</td>\n",
       "      <td>13</td>\n",
       "      <td>0</td>\n",
       "      <td>6</td>\n",
       "      <td>0</td>\n",
       "      <td>2.0</td>\n",
       "    </tr>\n",
       "  </tbody>\n",
       "</table>\n",
       "</div>"
      ],
      "text/plain": [
       "   target  TaxaDeUtilizacaoDeLinhasNaoGarantidas  Idade  \\\n",
       "0       1                               0.766127     45   \n",
       "\n",
       "   NumeroDeVezes30-59DiasAtrasoNaoPior  TaxaDeEndividamento  RendaMensal  \\\n",
       "0                                    2             0.802982       9120.0   \n",
       "\n",
       "   NumeroDeLinhasDeCreditoEEmprestimosAbertos  NumeroDeVezes90DiasAtraso  \\\n",
       "0                                          13                          0   \n",
       "\n",
       "   NumeroDeEmprestimosOuLinhasImobiliarias  \\\n",
       "0                                        6   \n",
       "\n",
       "   NumeroDeVezes60-89DiasAtrasoNaoPior  NumeroDeDependentes  \n",
       "0                                    0                  2.0  "
      ]
     },
     "execution_count": 4,
     "metadata": {},
     "output_type": "execute_result"
    }
   ],
   "source": [
    "dl = DataLoad()\n",
    "df = dl.load_data('train_dataset_name')\n",
    "df.head(1)"
   ]
  },
  {
   "cell_type": "markdown",
   "id": "6b472c6a-a5ff-43da-a517-ce3eab8d16cc",
   "metadata": {},
   "source": [
    "# 2.Data Validation "
   ]
  },
  {
   "cell_type": "code",
   "execution_count": 5,
   "id": "3818fe91-fd66-42c9-9c13-6b11dbe24621",
   "metadata": {},
   "outputs": [
    {
     "name": "stdout",
     "output_type": "stream",
     "text": [
      "2024-01-05 15:35:22 [info     ] Validação Concluída           \n"
     ]
    },
    {
     "data": {
      "text/plain": [
       "True"
      ]
     },
     "execution_count": 5,
     "metadata": {},
     "output_type": "execute_result"
    }
   ],
   "source": [
    "dv = DataValidation()\n",
    "dv.run(dataframe=df)"
   ]
  },
  {
   "cell_type": "markdown",
   "id": "a7f93430-0b04-497e-9f8c-813617a2adab",
   "metadata": {},
   "source": [
    "# 3. DataTransformation"
   ]
  },
  {
   "cell_type": "code",
   "execution_count": 17,
   "id": "fc978699-e9b0-423a-a5e1-a5a608fe583e",
   "metadata": {},
   "outputs": [],
   "source": [
    "dt = DataTransformation(df)\n",
    "X_train, X_val, y_train, y_val = dt.train_test_spliting()"
   ]
  },
  {
   "cell_type": "markdown",
   "id": "92dc4781-4c29-49b9-90e8-bca4b450a204",
   "metadata": {},
   "source": [
    "# 4. Experimentation"
   ]
  },
  {
   "cell_type": "code",
   "execution_count": 3,
   "id": "6cf31039-cf37-4dad-aa31-39c1db91f41b",
   "metadata": {},
   "outputs": [],
   "source": [
    "import mlflow\n",
    "from mlflow.tracking import MlflowClient"
   ]
  },
  {
   "cell_type": "code",
   "execution_count": 4,
   "id": "61b384bf-de05-4ef9-9894-746f1eebde69",
   "metadata": {},
   "outputs": [
    {
     "data": {
      "text/plain": [
       "<Experiment: artifact_location='mlflow-artifacts:/1', creation_time=1704470502137, experiment_id='1', last_update_time=1704470502137, lifecycle_stage='active', name='prob_learng', tags={}>"
      ]
     },
     "execution_count": 4,
     "metadata": {},
     "output_type": "execute_result"
    }
   ],
   "source": [
    "mlflow.set_tracking_uri('http://127.0.0.1:5000/')\n",
    "mlflow.set_experiment('prob_learng')"
   ]
  },
  {
   "cell_type": "code",
   "execution_count": 9,
   "id": "503b4f9c-3ce8-4d7b-9a95-bab33f4cf4be",
   "metadata": {},
   "outputs": [],
   "source": [
    "# with mlflow.start_run(run_name='baseline'):\n",
    "#     mlflow.set_tag('model_name', 'lr_baseline')\n",
    "\n",
    "#     # 1. Processar os dados\n",
    "#     pipe = Pipeline([('imputer',  MeanMedianImputer(variables=load_config_file().get('vars_imputer'))),\n",
    "#                      ('scaler', SklearnTransformerWrapper(StandardScaler())) ])\n",
    "#     preprocessador = DataPreprocess(pipe=pipe)\n",
    "#     preprocessador.train(X_train)\n",
    "\n",
    "#     X_train = preprocessador.tranform(X_train)\n",
    "#     X_val = preprocessador.tranform(X_val)\n",
    "#     joblib.dump(preprocessador, '../models/preprocessador.joblib')\n",
    "\n",
    "#     # 1.1 Logar um artefato\n",
    "\n",
    "#     mlflow.log_artifacts('../models/preprocessador.joblib')\n",
    "\n",
    "#     # 1.2 logar os parametros do processador\n",
    "\n",
    "#     mlflow.log_params(params={'imputer': pipe['imputer'],\n",
    "#                               'scaler' : pipe['scaler']})\n",
    "    \n",
    "#     # 2.0 inicia o experimento com cross validation\n",
    "\n",
    "#     model = LogisticRegression()\n",
    "#     model_eval = ModelEvaluation(model, X_train, y_train)\n",
    "#     roc_auc_curve = model_eval.cross_val_eval()\n",
    "\n",
    "#     # 2.1 Logar o Resultado da Performance\n",
    "\n",
    "#     mlflow.log_metric('train_roc_auc', roc_auc_curve.mean())\n",
    "    \n",
    "#     # 3.0 Treinamento do Modelo\n",
    "\n",
    "#     model.fit(X_train, y_train)\n",
    "\n",
    "#     # 4.0 salvar as métricas de validação do modelo\n",
    "\n",
    "#     y_pred = model_eval.model.predict_proba(X_val)[:, 1]\n",
    "#     val_roc_curve = model_eval.evaluate_prediction(y_val, y_pred)\n",
    "#     mlflow.log_metric('valid_roc_curve', val_roc_curve)\n",
    "\n",
    "#      # 5.0 Logar o modelo criado\n",
    "#     mlflow.sklearn.log_model(model,\n",
    "#                              'lr_model',\n",
    "#                              pyfunc_predict_fn='predict_proba')\n",
    "\n",
    "#     mlflow.end_run()\n"
   ]
  },
  {
   "cell_type": "markdown",
   "id": "c930dd09-ccff-4154-b98f-995396f38a09",
   "metadata": {},
   "source": [
    "## 4.1 Hyperparameters"
   ]
  },
  {
   "cell_type": "code",
   "execution_count": 5,
   "id": "980c9869-36d8-43eb-937b-084722562cc9",
   "metadata": {},
   "outputs": [],
   "source": [
    "from hyperopt import fmin, tpe, hp, STATUS_OK\n",
    "from mlflow.models import MetricThreshold\n",
    "from sklearn.dummy import DummyClassifier\n",
    "from mlflow.models import infer_signature"
   ]
  },
  {
   "cell_type": "code",
   "execution_count": 6,
   "id": "7b677bd4-adac-4272-91aa-b7e6eebeb4c2",
   "metadata": {},
   "outputs": [],
   "source": [
    "pipe = Pipeline([('imputer',  MeanMedianImputer(variables=load_config_file().get('vars_imputer'))),\n",
    "                 ('discretizer', EqualFrequencyDiscretiser(variables=load_config_file().get('vars_discritiser'))),\n",
    "                 ('scaler', SklearnTransformerWrapper(StandardScaler())) ])"
   ]
  },
  {
   "cell_type": "code",
   "execution_count": 7,
   "id": "1f5296be-a64f-44d7-b72f-af75d36c9290",
   "metadata": {},
   "outputs": [],
   "source": [
    "dl = DataLoad()\n",
    "df = dl.load_data('train_dataset_name')\n",
    "dt = DataTransformation(df)\n",
    "X_train, X_val, y_train, y_val = dt.train_test_spliting()\n",
    "\n",
    "def objective(params):\n",
    "    with mlflow.start_run(run_name='with_discretizer_hyperopt'):\n",
    "        mlflow.set_tag('model_name', 'lr_hyperopt')\n",
    "        mlflow.log_params(params)\n",
    "        \n",
    "    \n",
    "        preprocessador = DataPreprocess(pipe)\n",
    "        preprocessador.train(X_train)\n",
    "        \n",
    "        X_train = preprocessador.transform(X_train)\n",
    "        X_val = preprocessador.transform(X_val)\n",
    "        joblib.dump(preprocessador, '../models/preprocess.joblib')\n",
    "        \n",
    "        ## 1.1. logar um artefato (preprocessador)\n",
    "        mlflow.log_artifact('../models/preprocess.joblib')\n",
    "        \n",
    "        ## 1.2. logar os parametros do preprocessador\n",
    "        mlflow.log_params(params={'imputer': pipe['imputer'],\n",
    "                                'discretizer': pipe['discretizer'],\n",
    "                                'scaler': pipe['scaler']})\n",
    "        \n",
    "        # 2.0. inicia o experimento com cross validatin\n",
    "        model = LogisticRegression(**params)\n",
    "        model_eval = ModelEvaluation(model,\n",
    "                                    X_train,\n",
    "                                    y_train,\n",
    "                                    n_splits=5)\n",
    "        roc_auc_scores = model_eval.cross_val_evaluate()\n",
    "        ## 2.1. logar o resultado da performance\n",
    "        mlflow.log_metric('train_roc_auc', roc_auc_scores.mean())\n",
    "        \n",
    "        # 3.0. treinar o modelo\n",
    "        model.fit(X_train, y_train)\n",
    "        \n",
    "        # 4.0. salvar as metricas de validacao do modelo\n",
    "        y_val_preds = model_eval.model.predict_proba(X_val)[:, 1]\n",
    "        val_roc_auc = model_eval.evaluate_predictions(y_valid, y_val_preds)\n",
    "        \n",
    "        mlflow.log_metric('valid_roc_auc', val_roc_auc)\n",
    "        \n",
    "        # 5.0. logar o modelo\n",
    "        candidate_model_uri = mlflow.sklearn.log_model(model,\n",
    "                                'lr_model').model_uri\n",
    "        \n",
    "        ########\n",
    "        signature = infer_signature(X_val, y_valid)\n",
    "        \n",
    "        eval_data = X_val\n",
    "        eval_data['label'] = y_valid\n",
    "        \n",
    "        thresholds = {\n",
    "            \"accuracy_score\": MetricThreshold(\n",
    "                threshold=0.1, # o score da acuracia precisa ser >0.7\n",
    "                min_absolute_change=0.05,\n",
    "                min_relative_change=0.05, \n",
    "                greater_is_better=True\n",
    "            )\n",
    "        }\n",
    "        \n",
    "        baseline_model = DummyClassifier(strategy='uniform').fit(X_train, y_train)\n",
    "        baseline_model_uri = mlflow.sklearn.log_model(baseline_model,\n",
    "                                                    \"baseline_model\",\n",
    "                                                    signature=signature).model_uri\n",
    "        \n",
    "        # processo responsavel por avaliar o modelo do mlflow\n",
    "        mlflow.evaluate(candidate_model_uri,\n",
    "                        eval_data,\n",
    "                        targets=\"label\",\n",
    "                        model_type=\"classifier\",\n",
    "                        validation_thresholds=thresholds,\n",
    "                        baseline_model=baseline_model_uri)\n",
    "        \n",
    "        \n",
    "        mlflow.end_run()\n",
    "        \n",
    "        return {'loss': -roc_auc_scores.mean(),\n",
    "                'status': STATUS_OK}"
   ]
  },
  {
   "cell_type": "code",
   "execution_count": 8,
   "id": "e9da8ff1-5b29-4e53-909d-ce650c44e418",
   "metadata": {},
   "outputs": [],
   "source": [
    "search_space = {'warm_start' : hp.choice('warm_start', [True, False]),\n",
    "                'fit_intercept' : hp.choice('fit_intercept', [True, False]),\n",
    "                'tol' : hp.uniform('tol', 0.00001, 0.0001),\n",
    "                'C' : hp.uniform('C', 0.05, 3),\n",
    "                'solver' : hp.choice('solver', ['newton-cg', 'lbfgs', 'liblinear']),\n",
    "                'max_iter' : hp.choice('max_iter', range(100,1000)),\n",
    "                'multi_class' : 'auto',\n",
    "                'class_weight' : hp.choice('class_weight', [None, 'balanced'])}"
   ]
  },
  {
   "cell_type": "code",
   "execution_count": 22,
   "id": "75d37ac9-9181-4ee0-9f4c-4a7463f1c80f",
   "metadata": {},
   "outputs": [
    {
     "name": "stdout",
     "output_type": "stream",
     "text": [
      "  0%|                                                                            | 0/5 [00:00<?, ?trial/s, best loss=?]"
     ]
    },
    {
     "name": "stderr",
     "output_type": "stream",
     "text": [
      "job exception: cannot access local variable 'X_train' where it is not associated with a value\n",
      "\n"
     ]
    },
    {
     "name": "stdout",
     "output_type": "stream",
     "text": [
      "  0%|                                                                            | 0/5 [00:00<?, ?trial/s, best loss=?]\n"
     ]
    },
    {
     "ename": "UnboundLocalError",
     "evalue": "cannot access local variable 'X_train' where it is not associated with a value",
     "output_type": "error",
     "traceback": [
      "\u001b[1;31m---------------------------------------------------------------------------\u001b[0m",
      "\u001b[1;31mUnboundLocalError\u001b[0m                         Traceback (most recent call last)",
      "Cell \u001b[1;32mIn[22], line 1\u001b[0m\n\u001b[1;32m----> 1\u001b[0m best_result \u001b[38;5;241m=\u001b[39m \u001b[43mfmin\u001b[49m\u001b[43m(\u001b[49m\u001b[43mfn\u001b[49m\u001b[38;5;241;43m=\u001b[39;49m\u001b[43mobjective\u001b[49m\u001b[43m,\u001b[49m\n\u001b[0;32m      2\u001b[0m \u001b[43m                   \u001b[49m\u001b[43mspace\u001b[49m\u001b[38;5;241;43m=\u001b[39;49m\u001b[43msearch_space\u001b[49m\u001b[43m,\u001b[49m\n\u001b[0;32m      3\u001b[0m \u001b[43m                   \u001b[49m\u001b[43malgo\u001b[49m\u001b[38;5;241;43m=\u001b[39;49m\u001b[43mtpe\u001b[49m\u001b[38;5;241;43m.\u001b[39;49m\u001b[43msuggest\u001b[49m\u001b[43m,\u001b[49m\n\u001b[0;32m      4\u001b[0m \u001b[43m                   \u001b[49m\u001b[43mmax_evals\u001b[49m\u001b[38;5;241;43m=\u001b[39;49m\u001b[38;5;241;43m5\u001b[39;49m\u001b[43m)\u001b[49m\n",
      "File \u001b[1;32mC:\\Servidor\\OneDrive - CALCADOS BEIRA RIO S A\\Documentos\\repos\\mlflow\\mlflow\\Lib\\site-packages\\hyperopt\\fmin.py:586\u001b[0m, in \u001b[0;36mfmin\u001b[1;34m(fn, space, algo, max_evals, timeout, loss_threshold, trials, rstate, allow_trials_fmin, pass_expr_memo_ctrl, catch_eval_exceptions, verbose, return_argmin, points_to_evaluate, max_queue_len, show_progressbar, early_stop_fn, trials_save_file)\u001b[0m\n\u001b[0;32m    583\u001b[0m rval\u001b[38;5;241m.\u001b[39mcatch_eval_exceptions \u001b[38;5;241m=\u001b[39m catch_eval_exceptions\n\u001b[0;32m    585\u001b[0m \u001b[38;5;66;03m# next line is where the fmin is actually executed\u001b[39;00m\n\u001b[1;32m--> 586\u001b[0m \u001b[43mrval\u001b[49m\u001b[38;5;241;43m.\u001b[39;49m\u001b[43mexhaust\u001b[49m\u001b[43m(\u001b[49m\u001b[43m)\u001b[49m\n\u001b[0;32m    588\u001b[0m \u001b[38;5;28;01mif\u001b[39;00m return_argmin:\n\u001b[0;32m    589\u001b[0m     \u001b[38;5;28;01mif\u001b[39;00m \u001b[38;5;28mlen\u001b[39m(trials\u001b[38;5;241m.\u001b[39mtrials) \u001b[38;5;241m==\u001b[39m \u001b[38;5;241m0\u001b[39m:\n",
      "File \u001b[1;32mC:\\Servidor\\OneDrive - CALCADOS BEIRA RIO S A\\Documentos\\repos\\mlflow\\mlflow\\Lib\\site-packages\\hyperopt\\fmin.py:364\u001b[0m, in \u001b[0;36mFMinIter.exhaust\u001b[1;34m(self)\u001b[0m\n\u001b[0;32m    362\u001b[0m \u001b[38;5;28;01mdef\u001b[39;00m \u001b[38;5;21mexhaust\u001b[39m(\u001b[38;5;28mself\u001b[39m):\n\u001b[0;32m    363\u001b[0m     n_done \u001b[38;5;241m=\u001b[39m \u001b[38;5;28mlen\u001b[39m(\u001b[38;5;28mself\u001b[39m\u001b[38;5;241m.\u001b[39mtrials)\n\u001b[1;32m--> 364\u001b[0m     \u001b[38;5;28;43mself\u001b[39;49m\u001b[38;5;241;43m.\u001b[39;49m\u001b[43mrun\u001b[49m\u001b[43m(\u001b[49m\u001b[38;5;28;43mself\u001b[39;49m\u001b[38;5;241;43m.\u001b[39;49m\u001b[43mmax_evals\u001b[49m\u001b[43m \u001b[49m\u001b[38;5;241;43m-\u001b[39;49m\u001b[43m \u001b[49m\u001b[43mn_done\u001b[49m\u001b[43m,\u001b[49m\u001b[43m \u001b[49m\u001b[43mblock_until_done\u001b[49m\u001b[38;5;241;43m=\u001b[39;49m\u001b[38;5;28;43mself\u001b[39;49m\u001b[38;5;241;43m.\u001b[39;49m\u001b[43masynchronous\u001b[49m\u001b[43m)\u001b[49m\n\u001b[0;32m    365\u001b[0m     \u001b[38;5;28mself\u001b[39m\u001b[38;5;241m.\u001b[39mtrials\u001b[38;5;241m.\u001b[39mrefresh()\n\u001b[0;32m    366\u001b[0m     \u001b[38;5;28;01mreturn\u001b[39;00m \u001b[38;5;28mself\u001b[39m\n",
      "File \u001b[1;32mC:\\Servidor\\OneDrive - CALCADOS BEIRA RIO S A\\Documentos\\repos\\mlflow\\mlflow\\Lib\\site-packages\\hyperopt\\fmin.py:300\u001b[0m, in \u001b[0;36mFMinIter.run\u001b[1;34m(self, N, block_until_done)\u001b[0m\n\u001b[0;32m    297\u001b[0m     time\u001b[38;5;241m.\u001b[39msleep(\u001b[38;5;28mself\u001b[39m\u001b[38;5;241m.\u001b[39mpoll_interval_secs)\n\u001b[0;32m    298\u001b[0m \u001b[38;5;28;01melse\u001b[39;00m:\n\u001b[0;32m    299\u001b[0m     \u001b[38;5;66;03m# -- loop over trials and do the jobs directly\u001b[39;00m\n\u001b[1;32m--> 300\u001b[0m     \u001b[38;5;28;43mself\u001b[39;49m\u001b[38;5;241;43m.\u001b[39;49m\u001b[43mserial_evaluate\u001b[49m\u001b[43m(\u001b[49m\u001b[43m)\u001b[49m\n\u001b[0;32m    302\u001b[0m \u001b[38;5;28mself\u001b[39m\u001b[38;5;241m.\u001b[39mtrials\u001b[38;5;241m.\u001b[39mrefresh()\n\u001b[0;32m    303\u001b[0m \u001b[38;5;28;01mif\u001b[39;00m \u001b[38;5;28mself\u001b[39m\u001b[38;5;241m.\u001b[39mtrials_save_file \u001b[38;5;241m!=\u001b[39m \u001b[38;5;124m\"\u001b[39m\u001b[38;5;124m\"\u001b[39m:\n",
      "File \u001b[1;32mC:\\Servidor\\OneDrive - CALCADOS BEIRA RIO S A\\Documentos\\repos\\mlflow\\mlflow\\Lib\\site-packages\\hyperopt\\fmin.py:178\u001b[0m, in \u001b[0;36mFMinIter.serial_evaluate\u001b[1;34m(self, N)\u001b[0m\n\u001b[0;32m    176\u001b[0m ctrl \u001b[38;5;241m=\u001b[39m base\u001b[38;5;241m.\u001b[39mCtrl(\u001b[38;5;28mself\u001b[39m\u001b[38;5;241m.\u001b[39mtrials, current_trial\u001b[38;5;241m=\u001b[39mtrial)\n\u001b[0;32m    177\u001b[0m \u001b[38;5;28;01mtry\u001b[39;00m:\n\u001b[1;32m--> 178\u001b[0m     result \u001b[38;5;241m=\u001b[39m \u001b[38;5;28;43mself\u001b[39;49m\u001b[38;5;241;43m.\u001b[39;49m\u001b[43mdomain\u001b[49m\u001b[38;5;241;43m.\u001b[39;49m\u001b[43mevaluate\u001b[49m\u001b[43m(\u001b[49m\u001b[43mspec\u001b[49m\u001b[43m,\u001b[49m\u001b[43m \u001b[49m\u001b[43mctrl\u001b[49m\u001b[43m)\u001b[49m\n\u001b[0;32m    179\u001b[0m \u001b[38;5;28;01mexcept\u001b[39;00m \u001b[38;5;167;01mException\u001b[39;00m \u001b[38;5;28;01mas\u001b[39;00m e:\n\u001b[0;32m    180\u001b[0m     logger\u001b[38;5;241m.\u001b[39merror(\u001b[38;5;124m\"\u001b[39m\u001b[38;5;124mjob exception: \u001b[39m\u001b[38;5;132;01m%s\u001b[39;00m\u001b[38;5;124m\"\u001b[39m \u001b[38;5;241m%\u001b[39m \u001b[38;5;28mstr\u001b[39m(e))\n",
      "File \u001b[1;32mC:\\Servidor\\OneDrive - CALCADOS BEIRA RIO S A\\Documentos\\repos\\mlflow\\mlflow\\Lib\\site-packages\\hyperopt\\base.py:892\u001b[0m, in \u001b[0;36mDomain.evaluate\u001b[1;34m(self, config, ctrl, attach_attachments)\u001b[0m\n\u001b[0;32m    883\u001b[0m \u001b[38;5;28;01melse\u001b[39;00m:\n\u001b[0;32m    884\u001b[0m     \u001b[38;5;66;03m# -- the \"work\" of evaluating `config` can be written\u001b[39;00m\n\u001b[0;32m    885\u001b[0m     \u001b[38;5;66;03m#    either into the pyll part (self.expr)\u001b[39;00m\n\u001b[0;32m    886\u001b[0m     \u001b[38;5;66;03m#    or the normal Python part (self.fn)\u001b[39;00m\n\u001b[0;32m    887\u001b[0m     pyll_rval \u001b[38;5;241m=\u001b[39m pyll\u001b[38;5;241m.\u001b[39mrec_eval(\n\u001b[0;32m    888\u001b[0m         \u001b[38;5;28mself\u001b[39m\u001b[38;5;241m.\u001b[39mexpr,\n\u001b[0;32m    889\u001b[0m         memo\u001b[38;5;241m=\u001b[39mmemo,\n\u001b[0;32m    890\u001b[0m         print_node_on_error\u001b[38;5;241m=\u001b[39m\u001b[38;5;28mself\u001b[39m\u001b[38;5;241m.\u001b[39mrec_eval_print_node_on_error,\n\u001b[0;32m    891\u001b[0m     )\n\u001b[1;32m--> 892\u001b[0m     rval \u001b[38;5;241m=\u001b[39m \u001b[38;5;28;43mself\u001b[39;49m\u001b[38;5;241;43m.\u001b[39;49m\u001b[43mfn\u001b[49m\u001b[43m(\u001b[49m\u001b[43mpyll_rval\u001b[49m\u001b[43m)\u001b[49m\n\u001b[0;32m    894\u001b[0m \u001b[38;5;28;01mif\u001b[39;00m \u001b[38;5;28misinstance\u001b[39m(rval, (\u001b[38;5;28mfloat\u001b[39m, \u001b[38;5;28mint\u001b[39m, np\u001b[38;5;241m.\u001b[39mnumber)):\n\u001b[0;32m    895\u001b[0m     dict_rval \u001b[38;5;241m=\u001b[39m {\u001b[38;5;124m\"\u001b[39m\u001b[38;5;124mloss\u001b[39m\u001b[38;5;124m\"\u001b[39m: \u001b[38;5;28mfloat\u001b[39m(rval), \u001b[38;5;124m\"\u001b[39m\u001b[38;5;124mstatus\u001b[39m\u001b[38;5;124m\"\u001b[39m: STATUS_OK}\n",
      "Cell \u001b[1;32mIn[20], line 8\u001b[0m, in \u001b[0;36mobjective\u001b[1;34m(params)\u001b[0m\n\u001b[0;32m      4\u001b[0m mlflow\u001b[38;5;241m.\u001b[39mlog_params(params)\n\u001b[0;32m      7\u001b[0m preprocessador \u001b[38;5;241m=\u001b[39m DataPreprocess(pipe)\n\u001b[1;32m----> 8\u001b[0m preprocessador\u001b[38;5;241m.\u001b[39mtrain(\u001b[43mX_train\u001b[49m)\n\u001b[0;32m     10\u001b[0m X_train \u001b[38;5;241m=\u001b[39m preprocessador\u001b[38;5;241m.\u001b[39mtransform(X_train)\n\u001b[0;32m     11\u001b[0m X_val \u001b[38;5;241m=\u001b[39m preprocessador\u001b[38;5;241m.\u001b[39mtransform(X_val)\n",
      "\u001b[1;31mUnboundLocalError\u001b[0m: cannot access local variable 'X_train' where it is not associated with a value"
     ]
    }
   ],
   "source": [
    "best_result = fmin(fn=objective,\n",
    "                   space=search_space,\n",
    "                   algo=tpe.suggest,\n",
    "                   max_evals=5)"
   ]
  },
  {
   "cell_type": "code",
   "execution_count": null,
   "id": "28b0dd56-d305-4b2a-b4f1-22163a7cf4b3",
   "metadata": {},
   "outputs": [],
   "source": []
  },
  {
   "cell_type": "code",
   "execution_count": null,
   "id": "913a9f1f-8df4-425a-b7f5-ea4776c9d873",
   "metadata": {},
   "outputs": [],
   "source": []
  },
  {
   "cell_type": "code",
   "execution_count": null,
   "id": "1f7590a0-6a58-46cf-9bdc-a72255a080f3",
   "metadata": {},
   "outputs": [],
   "source": []
  },
  {
   "cell_type": "code",
   "execution_count": null,
   "id": "dc910672-4f73-4afc-beba-72b512d66091",
   "metadata": {},
   "outputs": [],
   "source": []
  },
  {
   "cell_type": "code",
   "execution_count": null,
   "id": "e496c10e-886c-4d19-a988-99af318a901d",
   "metadata": {},
   "outputs": [],
   "source": []
  },
  {
   "cell_type": "code",
   "execution_count": null,
   "id": "f3634bff-a08c-4e5d-b4b5-44d6e2d83614",
   "metadata": {},
   "outputs": [],
   "source": []
  },
  {
   "cell_type": "code",
   "execution_count": null,
   "id": "077a1767-ae8b-48ad-a5c8-5d5be4d93801",
   "metadata": {},
   "outputs": [],
   "source": []
  },
  {
   "cell_type": "code",
   "execution_count": null,
   "id": "f5b5efea-37df-484d-8477-908c3c935da9",
   "metadata": {},
   "outputs": [],
   "source": []
  },
  {
   "cell_type": "code",
   "execution_count": null,
   "id": "a8099151-3e3e-4baa-a0cf-fa37308e6280",
   "metadata": {},
   "outputs": [],
   "source": []
  },
  {
   "cell_type": "code",
   "execution_count": null,
   "id": "358d9cda-717f-45db-8450-240afc48b385",
   "metadata": {},
   "outputs": [],
   "source": []
  },
  {
   "cell_type": "code",
   "execution_count": null,
   "id": "f96682e1-2e61-4789-9e3b-ea9a0d12c3d1",
   "metadata": {},
   "outputs": [],
   "source": []
  },
  {
   "cell_type": "code",
   "execution_count": null,
   "id": "f7e16833-668b-4a3c-a2f1-84d06e11be55",
   "metadata": {},
   "outputs": [],
   "source": []
  },
  {
   "cell_type": "code",
   "execution_count": null,
   "id": "fdda6c94-12bd-4759-9944-cb9656c9079d",
   "metadata": {},
   "outputs": [],
   "source": []
  }
 ],
 "metadata": {
  "kernelspec": {
   "display_name": "Python 3 (ipykernel)",
   "language": "python",
   "name": "python3"
  },
  "language_info": {
   "codemirror_mode": {
    "name": "ipython",
    "version": 3
   },
   "file_extension": ".py",
   "mimetype": "text/x-python",
   "name": "python",
   "nbconvert_exporter": "python",
   "pygments_lexer": "ipython3",
   "version": "3.11.5"
  }
 },
 "nbformat": 4,
 "nbformat_minor": 5
}
