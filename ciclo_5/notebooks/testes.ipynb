{
 "cells": [
  {
   "cell_type": "code",
   "execution_count": 5,
   "metadata": {},
   "outputs": [],
   "source": [
    "import sys\n",
    "\n",
    "sys.path.insert(0, '../src/')\n",
    "\n",
    "import sqlite3\n",
    "import pandas as pd\n",
    "from evidently.report        import Report\n",
    "from evidently.metrics       import *\n",
    "from evidently.metric_preset import DataDriftPreset\n",
    "from evidently.test_preset   import DataDriftTestPreset\n",
    "\n",
    "from data.dataload import DataLoad\n",
    "\n",
    "class ModelMonitoring:\n",
    "    def __init__(self) -> None:\n",
    "        self.query = \"SELECT * FROM predictions\"\n",
    "\n",
    "    def _get_pred_data(self):\n",
    "        conn = sqlite3.connect('../../preds.db')\n",
    "        df_pred = pd.read_sql_query(self.query, con=conn)\n",
    "        conn.close()\n",
    "        return df_pred\n",
    "    \n",
    "    def _get_training_data(self):\n",
    "        dl = DataLoad()\n",
    "        df_train = dl.load_data('train_dataset_name')\n",
    "        return df_train\n",
    "\n",
    "    def run(self):\n",
    "        df_cur = self._get_pred_data()\n",
    "        df_ref = self._get_training_data().drop(columns='target')\n",
    "\n",
    "        model_card = Report(metrics=[DatasetSummaryMetric(), \n",
    "                                     DataDriftPreset(),\n",
    "                                     DatasetMissingValuesMetric(),\n",
    "                                     ])\n",
    "        model_card.run(reference_data=df_ref, \n",
    "                       current_data=df_cur)\n",
    "\n",
    "        model_card.save_html(\"../data/docs/model_monitoring_report.html\")\n",
    "\n",
    "mm = ModelMonitoring()\n",
    "mm.run()"
   ]
  },
  {
   "cell_type": "code",
   "execution_count": null,
   "metadata": {},
   "outputs": [],
   "source": []
  },
  {
   "cell_type": "code",
   "execution_count": null,
   "metadata": {},
   "outputs": [],
   "source": []
  },
  {
   "cell_type": "code",
   "execution_count": null,
   "metadata": {},
   "outputs": [],
   "source": []
  },
  {
   "cell_type": "code",
   "execution_count": null,
   "metadata": {},
   "outputs": [],
   "source": []
  }
 ],
 "metadata": {
  "kernelspec": {
   "display_name": "Python 3 (ipykernel)",
   "language": "python",
   "name": "python3"
  },
  "language_info": {
   "codemirror_mode": {
    "name": "ipython",
    "version": 3
   },
   "file_extension": ".py",
   "mimetype": "text/x-python",
   "name": "python",
   "nbconvert_exporter": "python",
   "pygments_lexer": "ipython3",
   "version": "3.11.5"
  }
 },
 "nbformat": 4,
 "nbformat_minor": 4
}
