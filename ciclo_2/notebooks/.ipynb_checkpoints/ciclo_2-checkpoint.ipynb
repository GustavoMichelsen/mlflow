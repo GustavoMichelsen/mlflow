{
 "cells": [
  {
   "cell_type": "markdown",
   "id": "539fd5ed",
   "metadata": {
    "heading_collapsed": true
   },
   "source": [
    "# 0. Importação de Biblíotecas e Funções de Ajuda"
   ]
  },
  {
   "cell_type": "markdown",
   "id": "c7f8a36c",
   "metadata": {
    "heading_collapsed": true,
    "hidden": true
   },
   "source": [
    "## 0.1 Bibliotecas"
   ]
  },
  {
   "cell_type": "code",
   "execution_count": 1,
   "id": "6587a609",
   "metadata": {
    "ExecuteTime": {
     "end_time": "2023-12-28T16:44:22.513481Z",
     "start_time": "2023-12-28T16:44:22.508517Z"
    },
    "hidden": true
   },
   "outputs": [],
   "source": [
    "import joblib\n",
    "import pandera\n",
    "\n",
    "import pandas as pd\n",
    "\n",
    "from IPython.display               import display, HTML\n",
    "from pandera                       import Check, Column, DataFrameSchema\n",
    "from sklearn.model_selection       import train_test_split\n",
    "from sklearn.pipeline              import Pipeline\n",
    "from sklearn.preprocessing         import RobustScaler, StandardScaler\n",
    "from sklearn.metrics               import roc_auc_score\n",
    "from sklearn.linear_model          import LogisticRegression\n",
    "from feature_engine.discretisation import EqualFrequencyDiscretiser, EqualWidthDiscretiser\n",
    "from feature_engine.imputation     import MeanMedianImputer\n",
    "from feature_engine.wrappers       import SklearnTransformerWrapper"
   ]
  },
  {
   "cell_type": "markdown",
   "id": "9f5bd026",
   "metadata": {
    "heading_collapsed": true,
    "hidden": true
   },
   "source": [
    "## 0.2 Funções de Ajuda"
   ]
  },
  {
   "cell_type": "code",
   "execution_count": 29,
   "id": "ee1bfb79",
   "metadata": {
    "ExecuteTime": {
     "end_time": "2023-12-28T17:46:21.876589Z",
     "start_time": "2023-12-28T17:46:21.872985Z"
    },
    "hidden": true
   },
   "outputs": [],
   "source": [
    "columns_to_use = ['target',\n",
    "                  'TaxaDeUtilizacaoDeLinhasNaoGarantidas',\n",
    "                  'Idade',\n",
    "                  'NumeroDeVezes30-59DiasAtrasoNaoPior',\n",
    "                  'TaxaDeEndividamento',\n",
    "                  'RendaMensal',\n",
    "                  'NumeroDeLinhasDeCreditoEEmprestimosAbertos',\n",
    "                  'NumeroDeVezes90DiasAtraso',\n",
    "                  'NumeroDeEmprestimosOuLinhasImobiliarias',\n",
    "                  'NumeroDeVezes60-89DiasAtrasoNaoPior',\n",
    "                  'NumeroDeDependentes']"
   ]
  },
  {
   "cell_type": "markdown",
   "id": "86464c90",
   "metadata": {
    "heading_collapsed": true,
    "hidden": true
   },
   "source": [
    "## 0.3 Configurações do Jupyter"
   ]
  },
  {
   "cell_type": "code",
   "execution_count": 2,
   "id": "2b220cfd",
   "metadata": {
    "ExecuteTime": {
     "end_time": "2023-12-28T16:44:24.697536Z",
     "start_time": "2023-12-28T16:44:24.689708Z"
    },
    "hidden": true
   },
   "outputs": [
    {
     "data": {
      "text/html": [
       "<style>.container { width:90% !important; }</style>"
      ],
      "text/plain": [
       "<IPython.core.display.HTML object>"
      ]
     },
     "metadata": {},
     "output_type": "display_data"
    }
   ],
   "source": [
    "# Deixar o jupyper em widescreen\n",
    "display(HTML(\"<style>.container { width:90% !important; }</style>\"))\n",
    "\n",
    "# Seta o máximo de colunas e linhas que o pandas vai exibir\n",
    "pd.set_option('display.max_columns', 20)\n",
    "pd.set_option('display.max_rows', 60)"
   ]
  },
  {
   "cell_type": "markdown",
   "id": "623cd578",
   "metadata": {
    "heading_collapsed": true
   },
   "source": [
    "# 1.0 Carregamento de Dados"
   ]
  },
  {
   "cell_type": "code",
   "execution_count": 31,
   "id": "6f15ebf0",
   "metadata": {
    "ExecuteTime": {
     "end_time": "2023-12-28T17:48:42.613213Z",
     "start_time": "2023-12-28T17:48:42.608490Z"
    },
    "hidden": true
   },
   "outputs": [],
   "source": [
    "class DataLoad:\n",
    "    \"\"\"Classe responsável pelo carregamento dos dados\"\"\"\n",
    "    \n",
    "    def __init__(self) -> None:\n",
    "        pass\n",
    "    \n",
    "    def load_data(self) -> pd.DataFrame:\n",
    "        \"\"\"Esta função vai retornar os dados carregados\n",
    "        \n",
    "            return:\n",
    "                pandas.DataFrame\"\"\"\n",
    "        \n",
    "        dataframe = pd.read_csv('../dataset/raw/train.csv', index_col=0)\n",
    "        return dataframe"
   ]
  },
  {
   "cell_type": "code",
   "execution_count": 37,
   "id": "ef27e500",
   "metadata": {
    "ExecuteTime": {
     "end_time": "2023-12-28T18:39:14.306704Z",
     "start_time": "2023-12-28T18:39:14.140661Z"
    },
    "hidden": true
   },
   "outputs": [],
   "source": [
    "df = DataLoad().load_data()"
   ]
  },
  {
   "cell_type": "markdown",
   "id": "2fa4ebe1",
   "metadata": {
    "heading_collapsed": true
   },
   "source": [
    "# 2.0 Validação dos Dados"
   ]
  },
  {
   "cell_type": "code",
   "execution_count": 35,
   "id": "0a29960e",
   "metadata": {
    "ExecuteTime": {
     "end_time": "2023-12-28T18:39:04.074906Z",
     "start_time": "2023-12-28T18:39:04.063424Z"
    },
    "hidden": true
   },
   "outputs": [],
   "source": [
    "class DataValidation:\n",
    "    \"\"\"Classe responsável pela validação dos dados\"\"\"\n",
    "    \n",
    "    def __init__(self, columns_to_use) -> None:\n",
    "        self.columns_to_use = columns_to_use\n",
    "        \n",
    "    def check_data_shape(self, dataframe: pd.DataFrame) -> bool:\n",
    "        \"\"\"Esta função checa se todas as colunas estão presentes no DataFrame\"\"\"\n",
    "        try:\n",
    "            print('A Validação Começou')\n",
    "            dataframe.columns = self.columns_to_use\n",
    "            return True\n",
    "        except Exception as e:\n",
    "            print(f'A Validação Falhou \\n {e}')\n",
    "            return False\n",
    "    \n",
    "    def check_columns(self, dataframe: pd.DataFrame) -> bool:\n",
    "        \"\"\"Esta função checa se os tipos de dados são os esperados\"\"\"\n",
    "        schema = DataFrameSchema(\n",
    "            {\n",
    "            \"target\": Column(int, Check.isin([0,1 ]), Check(lambda x: x>0), coerce=True),\n",
    "            \"TaxaDeUtilizacaoDeLinhasNaoGarantidas\": Column(float, nullable=True),\n",
    "            \"Idade\": Column(int, nullable=True),\n",
    "            \"NumeroDeVezes30-59DiasAtrasoNaoPior\": Column(int, nullable=True),\n",
    "            \"TaxaDeEndividamento\": Column(float, nullable=True),\n",
    "            \"RendaMensal\": Column(float, nullable=True),\n",
    "            \"NumeroDeLinhasDeCreditoEEmprestimosAbertos\": Column(int, nullable=True),\n",
    "            \"NumeroDeVezes90DiasAtraso\": Column(int, nullable=True),\n",
    "            \"NumeroDeEmprestimosOuLinhasImobiliarias\": Column(int, nullable=True),\n",
    "            \"NumeroDeVezes60-89DiasAtrasoNaoPior\": Column(int, nullable=True),\n",
    "            \"NumeroDeDependentes\": Column(float, nullable=True)\n",
    "            }\n",
    "        )\n",
    "        try:\n",
    "            schema.validate(dataframe)\n",
    "            print('Validação das colunas passou')\n",
    "            return True\n",
    "        except Exception as e:\n",
    "            print(f\"Validação das colunas falhou \\n {e}\")\n",
    "            return False\n",
    "    def run(self, dataframe: pd.DataFrame) -> bool:\n",
    "        if self.check_data_shape(dataframe) and  self.check_columns(dataframe):\n",
    "            print('Validação concluida com sucesso!')\n",
    "            return True\n",
    "        else:\n",
    "            print('Validação falhou')\n",
    "            return False"
   ]
  },
  {
   "cell_type": "code",
   "execution_count": 39,
   "id": "39bb7546",
   "metadata": {
    "ExecuteTime": {
     "end_time": "2023-12-28T18:40:25.853358Z",
     "start_time": "2023-12-28T18:40:25.819596Z"
    },
    "hidden": true
   },
   "outputs": [
    {
     "name": "stdout",
     "output_type": "stream",
     "text": [
      "A Validação Começou\n",
      "Validação das colunas passou\n",
      "Validação concluida com sucesso!\n"
     ]
    },
    {
     "data": {
      "text/plain": [
       "True"
      ]
     },
     "execution_count": 39,
     "metadata": {},
     "output_type": "execute_result"
    }
   ],
   "source": [
    "dv = DataValidation(columns_to_use).run(df)\n",
    "dv"
   ]
  },
  {
   "cell_type": "markdown",
   "id": "3abb20e8",
   "metadata": {},
   "source": [
    "# 3. DataTransformation"
   ]
  },
  {
   "cell_type": "code",
   "execution_count": 47,
   "id": "951785a6",
   "metadata": {
    "ExecuteTime": {
     "end_time": "2023-12-28T18:48:29.521482Z",
     "start_time": "2023-12-28T18:48:29.512899Z"
    }
   },
   "outputs": [],
   "source": [
    "class DataTransformation:\n",
    "    \"\"\"Classe responsável pela transformação dos dados\"\"\"\n",
    "    def __init__(self, \n",
    "                 dataframe: pd.DataFrame,\n",
    "                 target_name: str):\n",
    "        self.dataframe = dataframe\n",
    "        self.target_name = target_name\n",
    "    \n",
    "    def train_test_spliting(self, t_size: float):\n",
    "        \"\"\"Esta função separa os dados para treinamento e teste do modelo\"\"\"\n",
    "        X = self.dataframe.drop(columns=self.target_name)\n",
    "        y = self.dataframe[self.target_name]\n",
    "        \n",
    "        X_train, X_val, y_train, y_val = train_test_split(X, y, test_size = t_size, stratify=y)\n",
    "        \n",
    "        return X_train, X_val, y_train, y_val"
   ]
  },
  {
   "cell_type": "code",
   "execution_count": 48,
   "id": "147abb00",
   "metadata": {
    "ExecuteTime": {
     "end_time": "2023-12-28T18:48:31.622870Z",
     "start_time": "2023-12-28T18:48:31.528174Z"
    }
   },
   "outputs": [],
   "source": [
    "dt = DataTransformation(df, 'target').train_test_spliting(t_size=0.2)"
   ]
  },
  {
   "cell_type": "code",
   "execution_count": null,
   "id": "7052cc3b",
   "metadata": {},
   "outputs": [],
   "source": []
  },
  {
   "cell_type": "code",
   "execution_count": null,
   "id": "3a96206a",
   "metadata": {},
   "outputs": [],
   "source": []
  },
  {
   "cell_type": "code",
   "execution_count": null,
   "id": "1088680f",
   "metadata": {},
   "outputs": [],
   "source": []
  },
  {
   "cell_type": "code",
   "execution_count": null,
   "id": "188015e5",
   "metadata": {},
   "outputs": [],
   "source": []
  },
  {
   "cell_type": "code",
   "execution_count": null,
   "id": "829abc5c",
   "metadata": {},
   "outputs": [],
   "source": []
  },
  {
   "cell_type": "code",
   "execution_count": null,
   "id": "40039baf",
   "metadata": {},
   "outputs": [],
   "source": []
  },
  {
   "cell_type": "code",
   "execution_count": null,
   "id": "d3d8297c",
   "metadata": {},
   "outputs": [],
   "source": []
  }
 ],
 "metadata": {
  "kernelspec": {
   "display_name": "Python 3 (ipykernel)",
   "language": "python",
   "name": "python3"
  },
  "language_info": {
   "codemirror_mode": {
    "name": "ipython",
    "version": 3
   },
   "file_extension": ".py",
   "mimetype": "text/x-python",
   "name": "python",
   "nbconvert_exporter": "python",
   "pygments_lexer": "ipython3",
   "version": "3.11.5"
  },
  "varInspector": {
   "cols": {
    "lenName": 16,
    "lenType": 16,
    "lenVar": 40
   },
   "kernels_config": {
    "python": {
     "delete_cmd_postfix": "",
     "delete_cmd_prefix": "del ",
     "library": "var_list.py",
     "varRefreshCmd": "print(var_dic_list())"
    },
    "r": {
     "delete_cmd_postfix": ") ",
     "delete_cmd_prefix": "rm(",
     "library": "var_list.r",
     "varRefreshCmd": "cat(var_dic_list()) "
    }
   },
   "types_to_exclude": [
    "module",
    "function",
    "builtin_function_or_method",
    "instance",
    "_Feature"
   ],
   "window_display": false
  }
 },
 "nbformat": 4,
 "nbformat_minor": 5
}
