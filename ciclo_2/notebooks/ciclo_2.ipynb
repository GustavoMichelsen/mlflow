{
 "cells": [
  {
   "cell_type": "markdown",
   "id": "539fd5ed",
   "metadata": {},
   "source": [
    "# 0. Importação de Biblíotecas e Funções de Ajuda"
   ]
  },
  {
   "cell_type": "markdown",
   "id": "c7f8a36c",
   "metadata": {},
   "source": [
    "## 0.1 Bibliotecas"
   ]
  },
  {
   "cell_type": "code",
   "execution_count": 1,
   "id": "6587a609",
   "metadata": {
    "ExecuteTime": {
     "end_time": "2024-01-02T11:07:10.902404Z",
     "start_time": "2024-01-02T11:06:54.500321Z"
    }
   },
   "outputs": [],
   "source": [
    "import joblib\n",
    "import pandera\n",
    "\n",
    "import pandas as pd\n",
    "\n",
    "from IPython.display               import display, HTML\n",
    "from pandera                       import Check, Column, DataFrameSchema\n",
    "from sklearn.model_selection       import train_test_split\n",
    "from sklearn.pipeline              import Pipeline\n",
    "from sklearn.preprocessing         import RobustScaler, StandardScaler\n",
    "from sklearn.metrics               import roc_auc_score\n",
    "from sklearn.linear_model          import LogisticRegression\n",
    "from feature_engine.discretisation import EqualFrequencyDiscretiser, EqualWidthDiscretiser\n",
    "from feature_engine.imputation     import MeanMedianImputer\n",
    "from feature_engine.wrappers       import SklearnTransformerWrapper"
   ]
  },
  {
   "cell_type": "markdown",
   "id": "9f5bd026",
   "metadata": {
    "heading_collapsed": true
   },
   "source": [
    "## 0.2 Funções de Ajuda"
   ]
  },
  {
   "cell_type": "code",
   "execution_count": 2,
   "id": "ee1bfb79",
   "metadata": {
    "ExecuteTime": {
     "end_time": "2024-01-02T11:07:10.908435Z",
     "start_time": "2024-01-02T11:07:10.902404Z"
    },
    "hidden": true
   },
   "outputs": [],
   "source": [
    "columns_to_use = ['target',\n",
    "                  'TaxaDeUtilizacaoDeLinhasNaoGarantidas',\n",
    "                  'Idade',\n",
    "                  'NumeroDeVezes30-59DiasAtrasoNaoPior',\n",
    "                  'TaxaDeEndividamento',\n",
    "                  'RendaMensal',\n",
    "                  'NumeroDeLinhasDeCreditoEEmprestimosAbertos',\n",
    "                  'NumeroDeVezes90DiasAtraso',\n",
    "                  'NumeroDeEmprestimosOuLinhasImobiliarias',\n",
    "                  'NumeroDeVezes60-89DiasAtrasoNaoPior',\n",
    "                  'NumeroDeDependentes']"
   ]
  },
  {
   "cell_type": "markdown",
   "id": "86464c90",
   "metadata": {
    "heading_collapsed": true
   },
   "source": [
    "## 0.3 Configurações do Jupyter"
   ]
  },
  {
   "cell_type": "code",
   "execution_count": 3,
   "id": "2b220cfd",
   "metadata": {
    "ExecuteTime": {
     "end_time": "2024-01-02T11:07:10.918902Z",
     "start_time": "2024-01-02T11:07:10.910940Z"
    },
    "hidden": true
   },
   "outputs": [
    {
     "data": {
      "text/html": [
       "<style>.container { width:90% !important; }</style>"
      ],
      "text/plain": [
       "<IPython.core.display.HTML object>"
      ]
     },
     "metadata": {},
     "output_type": "display_data"
    }
   ],
   "source": [
    "# Deixar o jupyper em widescreen\n",
    "display(HTML(\"<style>.container { width:90% !important; }</style>\"))\n",
    "\n",
    "# Seta o máximo de colunas e linhas que o pandas vai exibir\n",
    "pd.set_option('display.max_columns', 20)\n",
    "pd.set_option('display.max_rows', 60)"
   ]
  },
  {
   "cell_type": "markdown",
   "id": "623cd578",
   "metadata": {
    "heading_collapsed": true
   },
   "source": [
    "# 1. Carregamento de Dados"
   ]
  },
  {
   "cell_type": "code",
   "execution_count": 4,
   "id": "6f15ebf0",
   "metadata": {
    "ExecuteTime": {
     "end_time": "2024-01-02T11:07:10.926040Z",
     "start_time": "2024-01-02T11:07:10.918902Z"
    },
    "hidden": true
   },
   "outputs": [],
   "source": [
    "class DataLoad:\n",
    "    \"\"\"Classe responsável pelo carregamento dos dados\"\"\"\n",
    "    \n",
    "    def __init__(self) -> None:\n",
    "        pass\n",
    "    \n",
    "    def load_data(self) -> pd.DataFrame:\n",
    "        \"\"\"Esta função vai retornar os dados carregados\n",
    "        \n",
    "            return:\n",
    "                pandas.DataFrame\"\"\"\n",
    "        \n",
    "        dataframe = pd.read_csv('../dataset/raw/train.csv', index_col=0)\n",
    "        return dataframe"
   ]
  },
  {
   "cell_type": "code",
   "execution_count": 5,
   "id": "ef27e500",
   "metadata": {
    "ExecuteTime": {
     "end_time": "2024-01-02T11:07:11.059975Z",
     "start_time": "2024-01-02T11:07:10.926040Z"
    },
    "hidden": true
   },
   "outputs": [],
   "source": [
    "df = DataLoad().load_data()"
   ]
  },
  {
   "cell_type": "markdown",
   "id": "2fa4ebe1",
   "metadata": {
    "heading_collapsed": true
   },
   "source": [
    "# 2. Validação dos Dados"
   ]
  },
  {
   "cell_type": "code",
   "execution_count": 6,
   "id": "0a29960e",
   "metadata": {
    "ExecuteTime": {
     "end_time": "2024-01-02T11:07:11.070462Z",
     "start_time": "2024-01-02T11:07:11.062193Z"
    },
    "hidden": true
   },
   "outputs": [],
   "source": [
    "class DataValidation:\n",
    "    \"\"\"Classe responsável pela validação dos dados\"\"\"\n",
    "    \n",
    "    def __init__(self, columns_to_use) -> None:\n",
    "        self.columns_to_use = columns_to_use\n",
    "        \n",
    "    def check_data_shape(self, dataframe: pd.DataFrame) -> bool:\n",
    "        \"\"\"Esta função checa se todas as colunas estão presentes no DataFrame\"\"\"\n",
    "        try:\n",
    "            print('A Validação Começou')\n",
    "            dataframe.columns = self.columns_to_use\n",
    "            return True\n",
    "        except Exception as e:\n",
    "            print(f'A Validação Falhou \\n {e}')\n",
    "            return False\n",
    "    \n",
    "    def check_columns(self, dataframe: pd.DataFrame) -> bool:\n",
    "        \"\"\"Esta função checa se os tipos de dados são os esperados\"\"\"\n",
    "        schema = DataFrameSchema(\n",
    "            {\n",
    "            \"target\": Column(int, Check.isin([0,1 ]), Check(lambda x: x>0), coerce=True),\n",
    "            \"TaxaDeUtilizacaoDeLinhasNaoGarantidas\": Column(float, nullable=True),\n",
    "            \"Idade\": Column(int, nullable=True),\n",
    "            \"NumeroDeVezes30-59DiasAtrasoNaoPior\": Column(int, nullable=True),\n",
    "            \"TaxaDeEndividamento\": Column(float, nullable=True),\n",
    "            \"RendaMensal\": Column(float, nullable=True),\n",
    "            \"NumeroDeLinhasDeCreditoEEmprestimosAbertos\": Column(int, nullable=True),\n",
    "            \"NumeroDeVezes90DiasAtraso\": Column(int, nullable=True),\n",
    "            \"NumeroDeEmprestimosOuLinhasImobiliarias\": Column(int, nullable=True),\n",
    "            \"NumeroDeVezes60-89DiasAtrasoNaoPior\": Column(int, nullable=True),\n",
    "            \"NumeroDeDependentes\": Column(float, nullable=True)\n",
    "            }\n",
    "        )\n",
    "        try:\n",
    "            schema.validate(dataframe)\n",
    "            print('Validação das colunas passou')\n",
    "            return True\n",
    "        except Exception as e:\n",
    "            print(f\"Validação das colunas falhou \\n {e}\")\n",
    "            return False\n",
    "    def run(self, dataframe: pd.DataFrame) -> bool:\n",
    "        if self.check_data_shape(dataframe) and  self.check_columns(dataframe):\n",
    "            print('Validação concluida com sucesso!')\n",
    "            return True\n",
    "        else:\n",
    "            print('Validação falhou')\n",
    "            return False"
   ]
  },
  {
   "cell_type": "code",
   "execution_count": 7,
   "id": "39bb7546",
   "metadata": {
    "ExecuteTime": {
     "end_time": "2024-01-02T11:07:11.114810Z",
     "start_time": "2024-01-02T11:07:11.072471Z"
    },
    "hidden": true
   },
   "outputs": [
    {
     "name": "stdout",
     "output_type": "stream",
     "text": [
      "A Validação Começou\n",
      "Validação das colunas passou\n",
      "Validação concluida com sucesso!\n"
     ]
    },
    {
     "data": {
      "text/plain": [
       "True"
      ]
     },
     "execution_count": 7,
     "metadata": {},
     "output_type": "execute_result"
    }
   ],
   "source": [
    "dv = DataValidation(columns_to_use).run(df)\n",
    "dv"
   ]
  },
  {
   "cell_type": "markdown",
   "id": "3abb20e8",
   "metadata": {
    "heading_collapsed": true
   },
   "source": [
    "# 3. DataTransformation"
   ]
  },
  {
   "cell_type": "code",
   "execution_count": 86,
   "id": "951785a6",
   "metadata": {
    "ExecuteTime": {
     "end_time": "2024-01-02T12:23:25.302609Z",
     "start_time": "2024-01-02T12:23:25.297772Z"
    },
    "hidden": true
   },
   "outputs": [],
   "source": [
    "class DataTransformation:\n",
    "    \"\"\"Classe responsável pela transformação dos dados\"\"\"\n",
    "    def __init__(self, \n",
    "                 dataframe: pd.DataFrame,\n",
    "                 target_name: str):\n",
    "        self.dataframe = dataframe\n",
    "        self.target_name = target_name\n",
    "    \n",
    "    def train_test_spliting(self, t_size: float):\n",
    "        \"\"\"Esta função separa os dados para treinamento e teste do modelo\"\"\"\n",
    "        X = self.dataframe.drop(columns=self.target_name)\n",
    "        y = self.dataframe[self.target_name].values\n",
    "        \n",
    "        X_train, X_val, y_train, y_val = train_test_split(X, y, test_size = t_size, stratify=y)\n",
    "        \n",
    "        return X_train, X_val, y_train, y_val"
   ]
  },
  {
   "cell_type": "code",
   "execution_count": 87,
   "id": "147abb00",
   "metadata": {
    "ExecuteTime": {
     "end_time": "2024-01-02T12:23:25.383132Z",
     "start_time": "2024-01-02T12:23:25.302609Z"
    },
    "hidden": true
   },
   "outputs": [],
   "source": [
    "X_train, X_val, y_train, y_val = DataTransformation(df, 'target').train_test_spliting(t_size=0.2)"
   ]
  },
  {
   "cell_type": "markdown",
   "id": "c52af197",
   "metadata": {
    "heading_collapsed": true
   },
   "source": [
    "# 4. Pre-Processamento dos dados"
   ]
  },
  {
   "cell_type": "code",
   "execution_count": 88,
   "id": "1088680f",
   "metadata": {
    "ExecuteTime": {
     "end_time": "2024-01-02T12:23:33.637357Z",
     "start_time": "2024-01-02T12:23:33.632962Z"
    },
    "hidden": true
   },
   "outputs": [],
   "source": [
    "class DataPreprocess:\n",
    "    def __init__(self, \n",
    "                 dataframe: pd.DataFrame,\n",
    "                 pipe: Pipeline):\n",
    "        self.dataframe = dataframe\n",
    "        self.pipe = pipe\n",
    "        \n",
    "    def pipeline(self):\n",
    "        train_pipe = self.pipe\n",
    "        train_pipe.fit(self.dataframe)\n",
    "        return train_pipe\n",
    "    \n",
    "    def run(self):\n",
    "        print('Pre-processador iniciou')\n",
    "        treined_pipe = self.pipeline()\n",
    "        data_preprocessed = treined_pipe.transform(self.dataframe)\n",
    "        print('Pre-processador finalizou')\n",
    "        return data_preprocessed"
   ]
  },
  {
   "cell_type": "code",
   "execution_count": 89,
   "id": "9b0d5bdb",
   "metadata": {
    "ExecuteTime": {
     "end_time": "2024-01-02T12:23:33.648832Z",
     "start_time": "2024-01-02T12:23:33.639657Z"
    },
    "hidden": true
   },
   "outputs": [],
   "source": [
    "pipe = Pipeline([('imputer',  MeanMedianImputer(variables=['RendaMensal', \n",
    "                                                           'NumeroDeDependentes'])),\n",
    "                  ('discretizer', EqualFrequencyDiscretiser(variables=['TaxaDeUtilizacaoDeLinhasNaoGarantidas',\n",
    "                                                                      'TaxaDeEndividamento',\n",
    "                                                                      'RendaMensal'])),\n",
    "                  ('scaler', SklearnTransformerWrapper(StandardScaler()))\n",
    "                ])"
   ]
  },
  {
   "cell_type": "code",
   "execution_count": 90,
   "id": "a130265f",
   "metadata": {
    "ExecuteTime": {
     "end_time": "2024-01-02T12:23:33.657345Z",
     "start_time": "2024-01-02T12:23:33.648832Z"
    },
    "hidden": true
   },
   "outputs": [],
   "source": [
    "dp = DataPreprocess(X_train, pipe)"
   ]
  },
  {
   "cell_type": "code",
   "execution_count": 91,
   "id": "3867b81d",
   "metadata": {
    "ExecuteTime": {
     "end_time": "2024-01-02T12:23:33.836278Z",
     "start_time": "2024-01-02T12:23:33.659840Z"
    },
    "hidden": true,
    "scrolled": false
   },
   "outputs": [
    {
     "name": "stdout",
     "output_type": "stream",
     "text": [
      "Pre-processador iniciou\n",
      "Pre-processador finalizou\n"
     ]
    }
   ],
   "source": [
    "X_train_processed = dp.run()"
   ]
  },
  {
   "cell_type": "code",
   "execution_count": 92,
   "id": "8beb1129",
   "metadata": {
    "ExecuteTime": {
     "end_time": "2024-01-02T12:23:33.952751Z",
     "start_time": "2024-01-02T12:23:33.836278Z"
    },
    "hidden": true
   },
   "outputs": [
    {
     "data": {
      "text/plain": [
       "['preprocessador.joblib']"
      ]
     },
     "execution_count": 92,
     "metadata": {},
     "output_type": "execute_result"
    }
   ],
   "source": [
    "joblib.dump(dp.pipeline(), 'preprocessador.joblib')"
   ]
  },
  {
   "cell_type": "markdown",
   "id": "37e70460",
   "metadata": {},
   "source": [
    "# 5. Treinamento do Modelo"
   ]
  },
  {
   "cell_type": "code",
   "execution_count": 99,
   "id": "c2e2597e",
   "metadata": {
    "ExecuteTime": {
     "end_time": "2024-01-02T12:26:30.426125Z",
     "start_time": "2024-01-02T12:26:30.421264Z"
    }
   },
   "outputs": [],
   "source": [
    "class TrainModel:\n",
    "    def __init__(self, \n",
    "                 dados_x: pd.DataFrame,\n",
    "                 dados_y: pd.DataFrame):\n",
    "        self.dados_x = dados_x\n",
    "        self.dados_y = dados_y\n",
    "        \n",
    "    def train(self, model):\n",
    "        model.fit(self.dados_x, self.dados_y)\n",
    "        joblib.dump(model, 'modelo.joblib')\n",
    "        return model\n",
    "    \n",
    "    def predict(self, dados_para_prever: pd.DataFrame):\n",
    "        model_fitted = self._load_model()\n",
    "        dados_pred = model_fitted.predict_proba(dados_para_prever)\n",
    "        return dados_pred\n",
    "    \n",
    "    def _load_model(self):\n",
    "        model = joblib.load('modelo.joblib')\n",
    "        return model"
   ]
  },
  {
   "cell_type": "code",
   "execution_count": 100,
   "id": "9914d097",
   "metadata": {
    "ExecuteTime": {
     "end_time": "2024-01-02T12:26:30.436925Z",
     "start_time": "2024-01-02T12:26:30.428129Z"
    }
   },
   "outputs": [],
   "source": [
    "tm = TrainModel(dados_x = X_train_processed,\n",
    "                dados_y = y_train)"
   ]
  },
  {
   "cell_type": "code",
   "execution_count": 101,
   "id": "98a80fe1",
   "metadata": {
    "ExecuteTime": {
     "end_time": "2024-01-02T12:26:30.634112Z",
     "start_time": "2024-01-02T12:26:30.436925Z"
    }
   },
   "outputs": [
    {
     "data": {
      "text/html": [
       "<style>#sk-container-id-7 {color: black;}#sk-container-id-7 pre{padding: 0;}#sk-container-id-7 div.sk-toggleable {background-color: white;}#sk-container-id-7 label.sk-toggleable__label {cursor: pointer;display: block;width: 100%;margin-bottom: 0;padding: 0.3em;box-sizing: border-box;text-align: center;}#sk-container-id-7 label.sk-toggleable__label-arrow:before {content: \"▸\";float: left;margin-right: 0.25em;color: #696969;}#sk-container-id-7 label.sk-toggleable__label-arrow:hover:before {color: black;}#sk-container-id-7 div.sk-estimator:hover label.sk-toggleable__label-arrow:before {color: black;}#sk-container-id-7 div.sk-toggleable__content {max-height: 0;max-width: 0;overflow: hidden;text-align: left;background-color: #f0f8ff;}#sk-container-id-7 div.sk-toggleable__content pre {margin: 0.2em;color: black;border-radius: 0.25em;background-color: #f0f8ff;}#sk-container-id-7 input.sk-toggleable__control:checked~div.sk-toggleable__content {max-height: 200px;max-width: 100%;overflow: auto;}#sk-container-id-7 input.sk-toggleable__control:checked~label.sk-toggleable__label-arrow:before {content: \"▾\";}#sk-container-id-7 div.sk-estimator input.sk-toggleable__control:checked~label.sk-toggleable__label {background-color: #d4ebff;}#sk-container-id-7 div.sk-label input.sk-toggleable__control:checked~label.sk-toggleable__label {background-color: #d4ebff;}#sk-container-id-7 input.sk-hidden--visually {border: 0;clip: rect(1px 1px 1px 1px);clip: rect(1px, 1px, 1px, 1px);height: 1px;margin: -1px;overflow: hidden;padding: 0;position: absolute;width: 1px;}#sk-container-id-7 div.sk-estimator {font-family: monospace;background-color: #f0f8ff;border: 1px dotted black;border-radius: 0.25em;box-sizing: border-box;margin-bottom: 0.5em;}#sk-container-id-7 div.sk-estimator:hover {background-color: #d4ebff;}#sk-container-id-7 div.sk-parallel-item::after {content: \"\";width: 100%;border-bottom: 1px solid gray;flex-grow: 1;}#sk-container-id-7 div.sk-label:hover label.sk-toggleable__label {background-color: #d4ebff;}#sk-container-id-7 div.sk-serial::before {content: \"\";position: absolute;border-left: 1px solid gray;box-sizing: border-box;top: 0;bottom: 0;left: 50%;z-index: 0;}#sk-container-id-7 div.sk-serial {display: flex;flex-direction: column;align-items: center;background-color: white;padding-right: 0.2em;padding-left: 0.2em;position: relative;}#sk-container-id-7 div.sk-item {position: relative;z-index: 1;}#sk-container-id-7 div.sk-parallel {display: flex;align-items: stretch;justify-content: center;background-color: white;position: relative;}#sk-container-id-7 div.sk-item::before, #sk-container-id-7 div.sk-parallel-item::before {content: \"\";position: absolute;border-left: 1px solid gray;box-sizing: border-box;top: 0;bottom: 0;left: 50%;z-index: -1;}#sk-container-id-7 div.sk-parallel-item {display: flex;flex-direction: column;z-index: 1;position: relative;background-color: white;}#sk-container-id-7 div.sk-parallel-item:first-child::after {align-self: flex-end;width: 50%;}#sk-container-id-7 div.sk-parallel-item:last-child::after {align-self: flex-start;width: 50%;}#sk-container-id-7 div.sk-parallel-item:only-child::after {width: 0;}#sk-container-id-7 div.sk-dashed-wrapped {border: 1px dashed gray;margin: 0 0.4em 0.5em 0.4em;box-sizing: border-box;padding-bottom: 0.4em;background-color: white;}#sk-container-id-7 div.sk-label label {font-family: monospace;font-weight: bold;display: inline-block;line-height: 1.2em;}#sk-container-id-7 div.sk-label-container {text-align: center;}#sk-container-id-7 div.sk-container {/* jupyter's `normalize.less` sets `[hidden] { display: none; }` but bootstrap.min.css set `[hidden] { display: none !important; }` so we also need the `!important` here to be able to override the default hidden behavior on the sphinx rendered scikit-learn.org. See: https://github.com/scikit-learn/scikit-learn/issues/21755 */display: inline-block !important;position: relative;}#sk-container-id-7 div.sk-text-repr-fallback {display: none;}</style><div id=\"sk-container-id-7\" class=\"sk-top-container\"><div class=\"sk-text-repr-fallback\"><pre>LogisticRegression()</pre><b>In a Jupyter environment, please rerun this cell to show the HTML representation or trust the notebook. <br />On GitHub, the HTML representation is unable to render, please try loading this page with nbviewer.org.</b></div><div class=\"sk-container\" hidden><div class=\"sk-item\"><div class=\"sk-estimator sk-toggleable\"><input class=\"sk-toggleable__control sk-hidden--visually\" id=\"sk-estimator-id-7\" type=\"checkbox\" checked><label for=\"sk-estimator-id-7\" class=\"sk-toggleable__label sk-toggleable__label-arrow\">LogisticRegression</label><div class=\"sk-toggleable__content\"><pre>LogisticRegression()</pre></div></div></div></div></div>"
      ],
      "text/plain": [
       "LogisticRegression()"
      ]
     },
     "execution_count": 101,
     "metadata": {},
     "output_type": "execute_result"
    }
   ],
   "source": [
    "tm.train(model=LogisticRegression())"
   ]
  },
  {
   "cell_type": "code",
   "execution_count": 102,
   "id": "94151004",
   "metadata": {
    "ExecuteTime": {
     "end_time": "2024-01-02T12:26:33.378390Z",
     "start_time": "2024-01-02T12:26:33.365596Z"
    }
   },
   "outputs": [],
   "source": [
    "y_train_pred = tm.predict(X_train_processed)"
   ]
  },
  {
   "cell_type": "code",
   "execution_count": 104,
   "id": "14af3cab",
   "metadata": {
    "ExecuteTime": {
     "end_time": "2024-01-02T12:27:15.835927Z",
     "start_time": "2024-01-02T12:27:15.831391Z"
    }
   },
   "outputs": [
    {
     "data": {
      "text/plain": [
       "array([[0.74250278, 0.25749722],\n",
       "       [0.93813324, 0.06186676],\n",
       "       [0.86722592, 0.13277408],\n",
       "       ...,\n",
       "       [0.94037466, 0.05962534],\n",
       "       [0.88630675, 0.11369325],\n",
       "       [0.91738007, 0.08261993]])"
      ]
     },
     "execution_count": 104,
     "metadata": {},
     "output_type": "execute_result"
    }
   ],
   "source": [
    "y_train_pred"
   ]
  },
  {
   "cell_type": "markdown",
   "id": "fdfa02e2",
   "metadata": {},
   "source": [
    "# 6. Avaliação do Modelo"
   ]
  },
  {
   "cell_type": "code",
   "execution_count": 105,
   "id": "2ca25cad",
   "metadata": {
    "ExecuteTime": {
     "end_time": "2024-01-02T12:30:17.487332Z",
     "start_time": "2024-01-02T12:30:17.379293Z"
    }
   },
   "outputs": [],
   "source": [
    "preprocessador = dp.pipeline()"
   ]
  },
  {
   "cell_type": "code",
   "execution_count": 106,
   "id": "87dbefb1",
   "metadata": {
    "ExecuteTime": {
     "end_time": "2024-01-02T12:30:23.390456Z",
     "start_time": "2024-01-02T12:30:23.378404Z"
    }
   },
   "outputs": [
    {
     "data": {
      "text/html": [
       "<style>#sk-container-id-8 {color: black;}#sk-container-id-8 pre{padding: 0;}#sk-container-id-8 div.sk-toggleable {background-color: white;}#sk-container-id-8 label.sk-toggleable__label {cursor: pointer;display: block;width: 100%;margin-bottom: 0;padding: 0.3em;box-sizing: border-box;text-align: center;}#sk-container-id-8 label.sk-toggleable__label-arrow:before {content: \"▸\";float: left;margin-right: 0.25em;color: #696969;}#sk-container-id-8 label.sk-toggleable__label-arrow:hover:before {color: black;}#sk-container-id-8 div.sk-estimator:hover label.sk-toggleable__label-arrow:before {color: black;}#sk-container-id-8 div.sk-toggleable__content {max-height: 0;max-width: 0;overflow: hidden;text-align: left;background-color: #f0f8ff;}#sk-container-id-8 div.sk-toggleable__content pre {margin: 0.2em;color: black;border-radius: 0.25em;background-color: #f0f8ff;}#sk-container-id-8 input.sk-toggleable__control:checked~div.sk-toggleable__content {max-height: 200px;max-width: 100%;overflow: auto;}#sk-container-id-8 input.sk-toggleable__control:checked~label.sk-toggleable__label-arrow:before {content: \"▾\";}#sk-container-id-8 div.sk-estimator input.sk-toggleable__control:checked~label.sk-toggleable__label {background-color: #d4ebff;}#sk-container-id-8 div.sk-label input.sk-toggleable__control:checked~label.sk-toggleable__label {background-color: #d4ebff;}#sk-container-id-8 input.sk-hidden--visually {border: 0;clip: rect(1px 1px 1px 1px);clip: rect(1px, 1px, 1px, 1px);height: 1px;margin: -1px;overflow: hidden;padding: 0;position: absolute;width: 1px;}#sk-container-id-8 div.sk-estimator {font-family: monospace;background-color: #f0f8ff;border: 1px dotted black;border-radius: 0.25em;box-sizing: border-box;margin-bottom: 0.5em;}#sk-container-id-8 div.sk-estimator:hover {background-color: #d4ebff;}#sk-container-id-8 div.sk-parallel-item::after {content: \"\";width: 100%;border-bottom: 1px solid gray;flex-grow: 1;}#sk-container-id-8 div.sk-label:hover label.sk-toggleable__label {background-color: #d4ebff;}#sk-container-id-8 div.sk-serial::before {content: \"\";position: absolute;border-left: 1px solid gray;box-sizing: border-box;top: 0;bottom: 0;left: 50%;z-index: 0;}#sk-container-id-8 div.sk-serial {display: flex;flex-direction: column;align-items: center;background-color: white;padding-right: 0.2em;padding-left: 0.2em;position: relative;}#sk-container-id-8 div.sk-item {position: relative;z-index: 1;}#sk-container-id-8 div.sk-parallel {display: flex;align-items: stretch;justify-content: center;background-color: white;position: relative;}#sk-container-id-8 div.sk-item::before, #sk-container-id-8 div.sk-parallel-item::before {content: \"\";position: absolute;border-left: 1px solid gray;box-sizing: border-box;top: 0;bottom: 0;left: 50%;z-index: -1;}#sk-container-id-8 div.sk-parallel-item {display: flex;flex-direction: column;z-index: 1;position: relative;background-color: white;}#sk-container-id-8 div.sk-parallel-item:first-child::after {align-self: flex-end;width: 50%;}#sk-container-id-8 div.sk-parallel-item:last-child::after {align-self: flex-start;width: 50%;}#sk-container-id-8 div.sk-parallel-item:only-child::after {width: 0;}#sk-container-id-8 div.sk-dashed-wrapped {border: 1px dashed gray;margin: 0 0.4em 0.5em 0.4em;box-sizing: border-box;padding-bottom: 0.4em;background-color: white;}#sk-container-id-8 div.sk-label label {font-family: monospace;font-weight: bold;display: inline-block;line-height: 1.2em;}#sk-container-id-8 div.sk-label-container {text-align: center;}#sk-container-id-8 div.sk-container {/* jupyter's `normalize.less` sets `[hidden] { display: none; }` but bootstrap.min.css set `[hidden] { display: none !important; }` so we also need the `!important` here to be able to override the default hidden behavior on the sphinx rendered scikit-learn.org. See: https://github.com/scikit-learn/scikit-learn/issues/21755 */display: inline-block !important;position: relative;}#sk-container-id-8 div.sk-text-repr-fallback {display: none;}</style><div id=\"sk-container-id-8\" class=\"sk-top-container\"><div class=\"sk-text-repr-fallback\"><pre>Pipeline(steps=[(&#x27;imputer&#x27;,\n",
       "                 MeanMedianImputer(variables=[&#x27;RendaMensal&#x27;,\n",
       "                                              &#x27;NumeroDeDependentes&#x27;])),\n",
       "                (&#x27;discretizer&#x27;,\n",
       "                 EqualFrequencyDiscretiser(variables=[&#x27;TaxaDeUtilizacaoDeLinhasNaoGarantidas&#x27;,\n",
       "                                                      &#x27;TaxaDeEndividamento&#x27;,\n",
       "                                                      &#x27;RendaMensal&#x27;])),\n",
       "                (&#x27;scaler&#x27;,\n",
       "                 SklearnTransformerWrapper(transformer=StandardScaler()))])</pre><b>In a Jupyter environment, please rerun this cell to show the HTML representation or trust the notebook. <br />On GitHub, the HTML representation is unable to render, please try loading this page with nbviewer.org.</b></div><div class=\"sk-container\" hidden><div class=\"sk-item sk-dashed-wrapped\"><div class=\"sk-label-container\"><div class=\"sk-label sk-toggleable\"><input class=\"sk-toggleable__control sk-hidden--visually\" id=\"sk-estimator-id-8\" type=\"checkbox\" ><label for=\"sk-estimator-id-8\" class=\"sk-toggleable__label sk-toggleable__label-arrow\">Pipeline</label><div class=\"sk-toggleable__content\"><pre>Pipeline(steps=[(&#x27;imputer&#x27;,\n",
       "                 MeanMedianImputer(variables=[&#x27;RendaMensal&#x27;,\n",
       "                                              &#x27;NumeroDeDependentes&#x27;])),\n",
       "                (&#x27;discretizer&#x27;,\n",
       "                 EqualFrequencyDiscretiser(variables=[&#x27;TaxaDeUtilizacaoDeLinhasNaoGarantidas&#x27;,\n",
       "                                                      &#x27;TaxaDeEndividamento&#x27;,\n",
       "                                                      &#x27;RendaMensal&#x27;])),\n",
       "                (&#x27;scaler&#x27;,\n",
       "                 SklearnTransformerWrapper(transformer=StandardScaler()))])</pre></div></div></div><div class=\"sk-serial\"><div class=\"sk-item\"><div class=\"sk-estimator sk-toggleable\"><input class=\"sk-toggleable__control sk-hidden--visually\" id=\"sk-estimator-id-9\" type=\"checkbox\" ><label for=\"sk-estimator-id-9\" class=\"sk-toggleable__label sk-toggleable__label-arrow\">MeanMedianImputer</label><div class=\"sk-toggleable__content\"><pre>MeanMedianImputer(variables=[&#x27;RendaMensal&#x27;, &#x27;NumeroDeDependentes&#x27;])</pre></div></div></div><div class=\"sk-item\"><div class=\"sk-estimator sk-toggleable\"><input class=\"sk-toggleable__control sk-hidden--visually\" id=\"sk-estimator-id-10\" type=\"checkbox\" ><label for=\"sk-estimator-id-10\" class=\"sk-toggleable__label sk-toggleable__label-arrow\">EqualFrequencyDiscretiser</label><div class=\"sk-toggleable__content\"><pre>EqualFrequencyDiscretiser(variables=[&#x27;TaxaDeUtilizacaoDeLinhasNaoGarantidas&#x27;,\n",
       "                                     &#x27;TaxaDeEndividamento&#x27;, &#x27;RendaMensal&#x27;])</pre></div></div></div><div class=\"sk-item sk-dashed-wrapped\"><div class=\"sk-label-container\"><div class=\"sk-label sk-toggleable\"><input class=\"sk-toggleable__control sk-hidden--visually\" id=\"sk-estimator-id-11\" type=\"checkbox\" ><label for=\"sk-estimator-id-11\" class=\"sk-toggleable__label sk-toggleable__label-arrow\">scaler: SklearnTransformerWrapper</label><div class=\"sk-toggleable__content\"><pre>SklearnTransformerWrapper(transformer=StandardScaler())</pre></div></div></div><div class=\"sk-parallel\"><div class=\"sk-parallel-item\"><div class=\"sk-item\"><div class=\"sk-label-container\"><div class=\"sk-label sk-toggleable\"><input class=\"sk-toggleable__control sk-hidden--visually\" id=\"sk-estimator-id-12\" type=\"checkbox\" ><label for=\"sk-estimator-id-12\" class=\"sk-toggleable__label sk-toggleable__label-arrow\">transformer: StandardScaler</label><div class=\"sk-toggleable__content\"><pre>StandardScaler()</pre></div></div></div><div class=\"sk-serial\"><div class=\"sk-item\"><div class=\"sk-estimator sk-toggleable\"><input class=\"sk-toggleable__control sk-hidden--visually\" id=\"sk-estimator-id-13\" type=\"checkbox\" ><label for=\"sk-estimator-id-13\" class=\"sk-toggleable__label sk-toggleable__label-arrow\">StandardScaler</label><div class=\"sk-toggleable__content\"><pre>StandardScaler()</pre></div></div></div></div></div></div></div></div></div></div></div></div>"
      ],
      "text/plain": [
       "Pipeline(steps=[('imputer',\n",
       "                 MeanMedianImputer(variables=['RendaMensal',\n",
       "                                              'NumeroDeDependentes'])),\n",
       "                ('discretizer',\n",
       "                 EqualFrequencyDiscretiser(variables=['TaxaDeUtilizacaoDeLinhasNaoGarantidas',\n",
       "                                                      'TaxaDeEndividamento',\n",
       "                                                      'RendaMensal'])),\n",
       "                ('scaler',\n",
       "                 SklearnTransformerWrapper(transformer=StandardScaler()))])"
      ]
     },
     "execution_count": 106,
     "metadata": {},
     "output_type": "execute_result"
    }
   ],
   "source": [
    "preprocessador"
   ]
  },
  {
   "cell_type": "code",
   "execution_count": 107,
   "id": "11afa6e9",
   "metadata": {
    "ExecuteTime": {
     "end_time": "2024-01-02T12:31:24.987934Z",
     "start_time": "2024-01-02T12:31:24.960119Z"
    }
   },
   "outputs": [],
   "source": [
    "X_val_processed = preprocessador.transform(X_val)"
   ]
  },
  {
   "cell_type": "code",
   "execution_count": 117,
   "id": "48a80be8",
   "metadata": {
    "ExecuteTime": {
     "end_time": "2024-01-02T12:39:19.483889Z",
     "start_time": "2024-01-02T12:39:19.473398Z"
    }
   },
   "outputs": [],
   "source": [
    "y_val_pred = tm.predict(X_val_processed)[:, 1]"
   ]
  },
  {
   "cell_type": "code",
   "execution_count": 118,
   "id": "76097123",
   "metadata": {
    "ExecuteTime": {
     "end_time": "2024-01-02T12:39:19.493262Z",
     "start_time": "2024-01-02T12:39:19.487476Z"
    }
   },
   "outputs": [
    {
     "data": {
      "text/plain": [
       "array([0.0170523 , 0.01397957, 0.0680838 , ..., 0.04212155, 0.02303131,\n",
       "       0.07864578])"
      ]
     },
     "execution_count": 118,
     "metadata": {},
     "output_type": "execute_result"
    }
   ],
   "source": [
    "y_val_pred"
   ]
  },
  {
   "cell_type": "code",
   "execution_count": 110,
   "id": "1aa29103",
   "metadata": {
    "ExecuteTime": {
     "end_time": "2024-01-02T12:37:29.729583Z",
     "start_time": "2024-01-02T12:37:29.725543Z"
    }
   },
   "outputs": [],
   "source": [
    "class ModelEvaluation():\n",
    "    def __init__(self):\n",
    "        pass\n",
    "    \n",
    "    def eval_Metrics(self, dados_reais, dados_preditos):\n",
    "        roc_auc = roc_auc_score(dados_reais, dados_preditos)\n",
    "        return roc_auc\n",
    "        "
   ]
  },
  {
   "cell_type": "code",
   "execution_count": 111,
   "id": "5a9e5d8b",
   "metadata": {
    "ExecuteTime": {
     "end_time": "2024-01-02T12:37:36.369274Z",
     "start_time": "2024-01-02T12:37:36.366501Z"
    }
   },
   "outputs": [],
   "source": [
    "me = ModelEvaluation()"
   ]
  },
  {
   "cell_type": "code",
   "execution_count": 119,
   "id": "486541a9",
   "metadata": {
    "ExecuteTime": {
     "end_time": "2024-01-02T12:39:24.486289Z",
     "start_time": "2024-01-02T12:39:24.466509Z"
    }
   },
   "outputs": [
    {
     "data": {
      "text/plain": [
       "0.7896209289243404"
      ]
     },
     "execution_count": 119,
     "metadata": {},
     "output_type": "execute_result"
    }
   ],
   "source": [
    "me.eval_Metrics(dados_reais=y_val, dados_preditos=y_val_pred)"
   ]
  },
  {
   "cell_type": "code",
   "execution_count": null,
   "id": "45bd746a",
   "metadata": {},
   "outputs": [],
   "source": []
  },
  {
   "cell_type": "code",
   "execution_count": null,
   "id": "f1b01f60",
   "metadata": {},
   "outputs": [],
   "source": []
  },
  {
   "cell_type": "code",
   "execution_count": null,
   "id": "3ea77e03",
   "metadata": {},
   "outputs": [],
   "source": []
  },
  {
   "cell_type": "code",
   "execution_count": null,
   "id": "a27aa248",
   "metadata": {},
   "outputs": [],
   "source": []
  },
  {
   "cell_type": "code",
   "execution_count": null,
   "id": "e91c58e0",
   "metadata": {},
   "outputs": [],
   "source": []
  },
  {
   "cell_type": "code",
   "execution_count": null,
   "id": "96a8aa8a",
   "metadata": {},
   "outputs": [],
   "source": []
  },
  {
   "cell_type": "code",
   "execution_count": null,
   "id": "70a84561",
   "metadata": {},
   "outputs": [],
   "source": []
  },
  {
   "cell_type": "code",
   "execution_count": null,
   "id": "d6497c68",
   "metadata": {},
   "outputs": [],
   "source": []
  },
  {
   "cell_type": "code",
   "execution_count": null,
   "id": "f36be9b5",
   "metadata": {},
   "outputs": [],
   "source": []
  },
  {
   "cell_type": "code",
   "execution_count": null,
   "id": "188015e5",
   "metadata": {},
   "outputs": [],
   "source": []
  },
  {
   "cell_type": "code",
   "execution_count": null,
   "id": "829abc5c",
   "metadata": {},
   "outputs": [],
   "source": []
  },
  {
   "cell_type": "code",
   "execution_count": null,
   "id": "40039baf",
   "metadata": {},
   "outputs": [],
   "source": []
  },
  {
   "cell_type": "code",
   "execution_count": null,
   "id": "d3d8297c",
   "metadata": {},
   "outputs": [],
   "source": []
  }
 ],
 "metadata": {
  "kernelspec": {
   "display_name": "Python 3 (ipykernel)",
   "language": "python",
   "name": "python3"
  },
  "language_info": {
   "codemirror_mode": {
    "name": "ipython",
    "version": 3
   },
   "file_extension": ".py",
   "mimetype": "text/x-python",
   "name": "python",
   "nbconvert_exporter": "python",
   "pygments_lexer": "ipython3",
   "version": "3.11.5"
  },
  "varInspector": {
   "cols": {
    "lenName": 16,
    "lenType": 16,
    "lenVar": 40
   },
   "kernels_config": {
    "python": {
     "delete_cmd_postfix": "",
     "delete_cmd_prefix": "del ",
     "library": "var_list.py",
     "varRefreshCmd": "print(var_dic_list())"
    },
    "r": {
     "delete_cmd_postfix": ") ",
     "delete_cmd_prefix": "rm(",
     "library": "var_list.r",
     "varRefreshCmd": "cat(var_dic_list()) "
    }
   },
   "types_to_exclude": [
    "module",
    "function",
    "builtin_function_or_method",
    "instance",
    "_Feature"
   ],
   "window_display": false
  }
 },
 "nbformat": 4,
 "nbformat_minor": 5
}
